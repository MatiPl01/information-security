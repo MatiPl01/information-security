{
 "cells": [
  {
   "cell_type": "markdown",
   "id": "ef9d5667",
   "metadata": {},
   "source": [
    "# Algorytm RSA"
   ]
  },
  {
   "cell_type": "markdown",
   "id": "46ad5ff7",
   "metadata": {},
   "source": [
    "Obecnie najpopularniejszy algorytm kryptografi asymetrycznej. Opublikowany w 1977 roku w *Scientific American's Mathematical Games* przez Rona Rivesta, Adiego Shamira i Leonarda Adlemana. Opiera się na problemie faktoryzacji liczb.\n",
    "\n",
    "W uproszczonej wersji algorytm RSA wygląda następująco:"
   ]
  },
  {
   "cell_type": "markdown",
   "id": "38c9759b",
   "metadata": {},
   "source": [
    "### Generowanie kluczy\n",
    "\n",
    "- Wybieramy dwie losowe liczby pierwsze $p$ i $q$\n",
    "- Obliczamy $n=pq$\n",
    "- Obliczamy funkcję Eulera $\\phi(n)=(p-1)(q-1)$\n",
    "- Wybieramy $e\\in\\{2,...,\\phi(n)-1\\}$ względnie pierwszą z $\\phi(n)$\n",
    "- Obliczamy $d=e^{-1}\\mod \\phi(n)$\n",
    "- Klucz publiczny to para $(n,e)$ a klucz prywatny to para $(n,d)$.\n"
   ]
  },
  {
   "cell_type": "markdown",
   "id": "534de81a",
   "metadata": {},
   "source": [
    "### Szyfrowanie\n",
    "Mamy dany klucz publiczny $(n,e)$. Wiadomość szyfrowana jest liczbą $m\\in [0,n)$.\n",
    "- Obliczamy szyfrogram $$c=m^e\\mod n.$$\n",
    "\n",
    "Teoretycznie może się zdarzyć, że szyfrogram $c$ jest taki sam, jak szyfrowana wiadomość $m$."
   ]
  },
  {
   "cell_type": "markdown",
   "id": "103acb53",
   "metadata": {},
   "source": [
    "### Deszyfrowanie\n",
    "- Obliczamy odszyfrowaną wiadomość $$m=c^d=m^{ed}\\mod n$$"
   ]
  },
  {
   "cell_type": "code",
   "execution_count": 1,
   "id": "842af73f",
   "metadata": {},
   "outputs": [],
   "source": [
    "import random\n",
    "from math import gcd"
   ]
  },
  {
   "cell_type": "markdown",
   "id": "6a70f48f",
   "metadata": {},
   "source": [
    "### Ćwiczenie 1.\n",
    "\n",
    "Zaimplementuj uproszczony algorytm RSA."
   ]
  },
  {
   "cell_type": "code",
   "execution_count": 2,
   "id": "f06ccb8f",
   "metadata": {},
   "outputs": [
    {
     "data": {
      "text/plain": [
       "(17855, 123)"
      ]
     },
     "execution_count": 2,
     "metadata": {},
     "output_type": "execute_result"
    }
   ],
   "source": [
    "# Simple primality test\n",
    "def is_prime(n):\n",
    "    if n < 2:\n",
    "        return False\n",
    "    for i in range(2, int(n ** 0.5) + 1):\n",
    "        if n % i == 0:\n",
    "            return False\n",
    "    return True\n",
    "\n",
    "# Generate random prime\n",
    "def generate_prime(bit_length):\n",
    "    while True:\n",
    "        num = random.randint(2**(bit_length-1), 2**bit_length - 1)\n",
    "        if is_prime(num):\n",
    "            return num\n",
    "\n",
    "# Extended Euclidean algorithm\n",
    "def mod_inverse(e, phi):\n",
    "    def egcd(a, b):\n",
    "        if a == 0:\n",
    "            return b, 0, 1\n",
    "        else:\n",
    "            g, y, x = egcd(b % a, a)\n",
    "            return g, x - (b // a) * y, y\n",
    "    g, x, _ = egcd(e, phi)\n",
    "    if g != 1:\n",
    "        raise Exception('modular inverse does not exist')\n",
    "    else:\n",
    "        return x % phi\n",
    "\n",
    "def rsa_keygen(bit_length=16):\n",
    "    p = generate_prime(bit_length // 2)\n",
    "    q = generate_prime(bit_length // 2)\n",
    "    n = p * q\n",
    "    phi_n = (p - 1) * (q - 1)\n",
    "    \n",
    "    e = 65537\n",
    "    if gcd(e, phi_n) != 1:\n",
    "        e = 3  # fallback if 65537 not coprime with phi_n\n",
    "    d = mod_inverse(e, phi_n)\n",
    "    return (n, e), (n, d)\n",
    "\n",
    "def rsa_encrypt(message, public_key):\n",
    "    n, e = public_key\n",
    "    return pow(message, e, n)\n",
    "\n",
    "def rsa_decrypt(ciphertext, private_key):\n",
    "    n, d = private_key\n",
    "    return pow(ciphertext, d, n)\n",
    "\n",
    "# Example usage:\n",
    "pub_key, priv_key = rsa_keygen(16)\n",
    "msg = 123\n",
    "ciphertext = rsa_encrypt(msg, pub_key)\n",
    "decrypted_msg = rsa_decrypt(ciphertext, priv_key)\n",
    "\n",
    "ciphertext, decrypted_msg"
   ]
  },
  {
   "cell_type": "markdown",
   "id": "521ea2bd",
   "metadata": {},
   "source": [
    "## Prosta faktoryzacja brute force"
   ]
  },
  {
   "cell_type": "code",
   "execution_count": 3,
   "id": "99369c94",
   "metadata": {},
   "outputs": [
    {
     "data": {
      "text/plain": [
       "[7, 13]"
      ]
     },
     "execution_count": 3,
     "metadata": {},
     "output_type": "execute_result"
    }
   ],
   "source": [
    "def brute_force_factorization(n):\n",
    "    factors = []\n",
    "    for i in range(2, int(n**0.5)+1):\n",
    "        while n % i == 0:\n",
    "            factors.append(i)\n",
    "            n //= i\n",
    "    if n > 1:\n",
    "        factors.append(n)\n",
    "    return factors\n",
    "\n",
    "# Example usage:\n",
    "brute_force_factorization(91)  # returns [7, 13]"
   ]
  },
  {
   "cell_type": "markdown",
   "id": "6d58ab81",
   "metadata": {},
   "source": [
    "# Proste ataki na RSA"
   ]
  },
  {
   "cell_type": "markdown",
   "id": "38c9ac34",
   "metadata": {},
   "source": [
    "## Faktoryzacja Fermata"
   ]
  },
  {
   "cell_type": "markdown",
   "id": "d2a5b17b",
   "metadata": {},
   "source": [
    "Faktoryzacja Fermata liczby nieparzystej $n$ opiera się na znalezieniu pary liczb $a,b$ takich, że $n=a^2-b^2$. Wtedy od razu otrzymujemy faktoryzację $$n=(a+b)(a-b).$$\n",
    "\n",
    "Dla dowolnej złożonej liczby nieparzystej (tzn. liczby nieparzystej niebędącej liczbą pierwszą) znajdziemy takie liczby $a,b$. W szczególności, w przypadku $n=pq$ (jak w RSA) mamy $$a=\\frac{p+q}{2},\\qquad b=\\frac{p-q}{2}.$$"
   ]
  },
  {
   "cell_type": "markdown",
   "id": "5942a512",
   "metadata": {},
   "source": [
    "#### Krok 0.\n",
    "Sprawdzamy, czy $\\sqrt{n}$ jest liczbą naturalną. Jeżeli tak - znaleźliśmy faktoryzację i koniec algorytmu.\n",
    "#### Krok 1.\n",
    "Definiujemy zmienne pomocnicze\n",
    "$$a = \\left\\lceil\\sqrt{n}\\right\\rceil,\\qquad\n",
    "b^2 = a^2 - n.$$\n",
    "#### Krok 2.\n",
    "Jeżeli $\\sqrt{b^2}$ jest liczbą całkowitą, to kończymy algorytm i zwracamy $a$ oraz $b=\\sqrt{b^2}$. Jeżeli nie, to aktualizujemy zmienne:\n",
    "$$a=a + 1,\\qquad b^2=a^2 - n.$$\n"
   ]
  },
  {
   "cell_type": "markdown",
   "id": "d7881084",
   "metadata": {},
   "source": [
    "### Ćwiczenie 2.\n",
    "Zaimplementuj atak z użyciem faktoryzacji Fermata i przetestuj go na swojej implementacji RSA. Jeżeli atak zakończył się sukcesem - popraw implementację kryptosystemu. Jakie założenia powinny spełniać parametry kryptosystemu, aby atak się nie powiódł?"
   ]
  },
  {
   "cell_type": "code",
   "execution_count": 4,
   "id": "2f94f9bf",
   "metadata": {},
   "outputs": [
    {
     "data": {
      "text/plain": [
       "((143, 113), (143, 113))"
      ]
     },
     "execution_count": 4,
     "metadata": {},
     "output_type": "execute_result"
    }
   ],
   "source": [
    "def rsa_crack(public_key):\n",
    "    n, e = public_key\n",
    "    factors = brute_force_factorization(n)\n",
    "    if len(factors) != 2:\n",
    "        raise ValueError(\"RSA modulus factorization failed\")\n",
    "    p, q = factors\n",
    "    phi_n = (p - 1) * (q - 1)\n",
    "    d = mod_inverse(e, phi_n)\n",
    "    return (n, d)\n",
    "\n",
    "# Example usage:\n",
    "pub_key, priv_key = rsa_keygen(8)\n",
    "cracked_key = rsa_crack(pub_key)\n",
    "\n",
    "priv_key, cracked_key"
   ]
  },
  {
   "cell_type": "markdown",
   "id": "430d8c33",
   "metadata": {},
   "source": [
    "Parametry RSA powinny spełniać następujące założenia:\n",
    "- Liczby pierwsze p oraz q muszą być duże. Typowe zalecenia to przynajmniej 1024-bitowe liczby pierwsze.\n",
    "- Liczby pierwsze p i q powinny się znacząco różnić. Najlepiej, gdy mają wyraźnie różną długość bitową i dużą różnicę wartości, co minimalizuje skuteczność faktoryzacji Fermata.\n",
    "- Nie powinny być one zbyt blisko siebie liczbowo. Atak Fermata wykorzystuje fakt, że p \\approx q. Gdy odległość jest znaczna, atak staje się czasochłonny.\n"
   ]
  },
  {
   "cell_type": "code",
   "execution_count": 18,
   "id": "230c407b",
   "metadata": {},
   "outputs": [
    {
     "name": "stdout",
     "output_type": "stream",
     "text": [
      "Faktoryzacja Fermata nie powiodła się w określonym czasie.\n",
      "Czas trwania ataku: 10.00 sekund\n",
      "Odzyskany klucz prywatny: None\n"
     ]
    }
   ],
   "source": [
    "import time\n",
    "\n",
    "def rsa_keygen_secure(bit_length=128):\n",
    "    half_bits = bit_length // 2\n",
    "    p = generate_prime(half_bits)\n",
    "    q = generate_prime(half_bits)\n",
    "\n",
    "    # Enforce large difference between p and q\n",
    "    while abs(p - q) < 2**(half_bits - 5):\n",
    "        q = generate_prime(half_bits)\n",
    "\n",
    "    n = p * q\n",
    "    phi_n = (p - 1) * (q - 1)\n",
    "\n",
    "    e = 65537\n",
    "    if gcd(e, phi_n) != 1:\n",
    "        e = 3\n",
    "    d = mod_inverse(e, phi_n)\n",
    "    return (n, e), (n, d)\n",
    "\n",
    "def fermat_factorization(n, timeout=5):\n",
    "    start_time = time.time()\n",
    "    a = int(n ** 0.5) + 1\n",
    "\n",
    "    while time.time() - start_time < timeout:\n",
    "        b2 = a * a - n\n",
    "        b = int(b2 ** 0.5)\n",
    "        if b * b == b2:\n",
    "            p, q = a + b, a - b\n",
    "            if p * q == n:\n",
    "                return p, q\n",
    "        a += 1\n",
    "    return None  # timeout reached\n",
    "\n",
    "def rsa_crack_with_timeout(public_key, timeout=5):\n",
    "    n, e = public_key\n",
    "    factors = fermat_factorization(n, timeout)\n",
    "    if factors is None:\n",
    "        print(\"Faktoryzacja Fermata nie powiodła się w określonym czasie.\")\n",
    "        return None\n",
    "    p, q = factors\n",
    "    phi_n = (p - 1)*(q - 1)\n",
    "    d = mod_inverse(e, phi_n)\n",
    "    return (n, d)\n",
    "\n",
    "# Example (proper) usage:\n",
    "pub_key, priv_key = rsa_keygen_secure(96)  # 96 bits total modulus size\n",
    "start = time.time()\n",
    "cracked_key = rsa_crack_with_timeout(pub_key, timeout=10)\n",
    "end = time.time()\n",
    "\n",
    "print(f\"Czas trwania ataku: {end - start:.2f} sekund\")\n",
    "print(\"Odzyskany klucz prywatny:\", cracked_key)"
   ]
  },
  {
   "cell_type": "markdown",
   "id": "6854dec5",
   "metadata": {},
   "source": [
    "# Ataki nie wykorzystujące faktoryzacji"
   ]
  },
  {
   "cell_type": "markdown",
   "id": "c03492fd",
   "metadata": {},
   "source": [
    "## Atak naiwny"
   ]
  },
  {
   "cell_type": "markdown",
   "id": "9363c876",
   "metadata": {},
   "source": [
    "Jeżeli wykładnik $e$ jest niewielki oraz dla wiadomości $m$ wartość $m^e<n$, to $c=m^e\\mod n=m^e$. Możemy zatem odzyskać $m$ obliczając $m=\\sqrt[e]{c}$."
   ]
  },
  {
   "cell_type": "markdown",
   "id": "09fb040c",
   "metadata": {},
   "source": [
    "### Ćwiczenie 3.\n",
    "Sprawdź, czy Twoja implementacja RSA jest podatna na powyższy atak wykonując co najmniej 1000 prób. Jeżeli którakolwiek zakończyła się powodzeniem - popraw implementację. Jakie założenia powinny spełniać parametry kryptosystemu, żeby atak nie miał szans powodzenia?"
   ]
  },
  {
   "cell_type": "code",
   "execution_count": 23,
   "id": "03cb97de",
   "metadata": {},
   "outputs": [
    {
     "name": "stdout",
     "output_type": "stream",
     "text": [
      "Warunek m^e < n nie jest spełniony, atak nie działa.\n"
     ]
    }
   ],
   "source": [
    "def integer_nth_root(x, n):\n",
    "    \"\"\"Efficient integer nth-root calculation using binary search.\"\"\"\n",
    "    low, high = 0, x\n",
    "    while low <= high:\n",
    "        mid = (low + high) // 2\n",
    "        mid_n = mid ** n\n",
    "        if mid_n == x:\n",
    "            return mid\n",
    "        elif mid_n < x:\n",
    "            low = mid + 1\n",
    "        else:\n",
    "            high = mid - 1\n",
    "    return high  # closest integer root from below\n",
    "\n",
    "def naive_rsa_attack(ciphertext, e):\n",
    "    return integer_nth_root(ciphertext, e)\n",
    "\n",
    "# Example demonstration of vulnerability:\n",
    "pub_key, priv_key = rsa_keygen_secure(64)\n",
    "n, e = pub_key\n",
    "\n",
    "# Create a message smaller than the eth-root of n:\n",
    "msg = 42  # small message to ensure m^e < n\n",
    "ciphertext = rsa_encrypt(msg, pub_key)\n",
    "\n",
    "# Check condition for vulnerability explicitly:\n",
    "if msg ** e < n:\n",
    "    recovered_msg = naive_rsa_attack(ciphertext, e)\n",
    "    print(f\"Odzyskana wiadomość: {recovered_msg}\")\n",
    "else:\n",
    "    print(\"Warunek m^e < n nie jest spełniony, atak nie działa.\")"
   ]
  },
  {
   "cell_type": "code",
   "execution_count": 25,
   "id": "2cd916ab",
   "metadata": {},
   "outputs": [
    {
     "name": "stdout",
     "output_type": "stream",
     "text": [
      "Atak naiwny nie powiódł się w 1000 próbach.\n"
     ]
    }
   ],
   "source": [
    "def check_naive_attack(trials=1000, bit_length=64, e=3):\n",
    "    successes = 0\n",
    "    for _ in range(trials):\n",
    "        pub_key, priv_key = rsa_keygen_secure(bit_length)\n",
    "        n, _ = pub_key\n",
    "        msg = random.randint(2, integer_nth_root(n, e) - 1)  # Ensure m^e < n\n",
    "        ciphertext = rsa_encrypt(msg, pub_key)\n",
    "        recovered_msg = naive_rsa_attack(ciphertext, e)\n",
    "        if recovered_msg == msg:\n",
    "            successes += 1\n",
    "            print(f\"Sukces ataku! Wiadomość odzyskana: {recovered_msg}\")\n",
    "            break\n",
    "    if successes == 0:\n",
    "        print(\"Atak naiwny nie powiódł się w 1000 próbach.\")\n",
    "\n",
    "# Example run:\n",
    "check_naive_attack()"
   ]
  },
  {
   "cell_type": "markdown",
   "id": "719631e6",
   "metadata": {},
   "source": [
    "## Atak Wienera"
   ]
  },
  {
   "cell_type": "markdown",
   "id": "dfafb8d3",
   "metadata": {},
   "source": [
    "Atak Wienera odtwarza klucz prywatny $d$ z klucza publicznego $(n,e)$ bez konieczności faktoryzacji $n$.\n",
    "\n",
    "#### Krok 1.\n",
    "Przeksztacamy ułamek $\\frac{e}{n}$ na ułamek łańcuchowy postaci $${\\displaystyle x=a_{0}+{\\cfrac {1}{a_{1}+{\\cfrac {1}{a_{2}+{\\cfrac {1}{a_{3}+{\\cfrac {1}{a_{4}+\\ddots \\,\\frac{1}{a_k}}}}}}}}}}$$o standardowej reprezentacji $[a_0;a_1,a_2,...,a_{k−2},a_{k−1},a_k]$.\n",
    "\n",
    "#### Krok 2.\n",
    "Dla każdego reduktu ułamka łańcuchowego, tzn. ułamka łańcuchowego postaci $[a_0]$, $[a_0;a_1]$, $[a_0;a_1,a_2]$,...,$[a_0;a_1,a_2,...,a_{k−2},a_{k−1},a_k]$ sprawdzamy, czy jest on rozwinięciem ułamka $\\frac{s}{d}$ w ułamek łańcuchowy dla pewnej stałej $s$:\n",
    "- niech $l$ oznacza licznik a $m$ - mianownik reduktu\n",
    "- sprawdź, czy mianownik $m$ jest nieparzysty. Jeżeli nie - przejdź do sprawdzania kolejnego reduktu.\n",
    "- sprawdź, czy $em=1\\mod l$. Jeżeli nie - przejdź do sprawdzania kolejnego reduktu.\n",
    "- zdefiniuj wielomian pomocniczy $$Q(x)=x^2-(n-\\frac{em-1}{l}+1)x+n.$$Jeżeli pierwiastki tego wielomianu są liczbami całkowitymi, to aktualny mianownik $m$ reduktu jest szukanym kluczem prywatnym $d$.\n",
    "\n",
    "\n",
    "Atak Wienera niekoniecznie musi zakończyć się sukcesem - jeżeli sprawdzimy wszystkie redukty i żaden nie jest rozwinięciem $\\frac{s}{d}$, to dany zestaw parametrów RSA jest odporny na ten atak."
   ]
  },
  {
   "cell_type": "markdown",
   "id": "febae910",
   "metadata": {},
   "source": [
    "### Ćwiczenie 4.\n",
    "\n",
    "Sprawdź, czy Twoja implementacja RSA jest podatna na atak Wienera wykonując co najmniej 100 prób. Jeżeli którakolwiek zakończyła się powodzeniem - popraw implementację. Jakie założenia powinny spełniać parametry kryptosystemu, żeby atak nie miał szans powodzenia?"
   ]
  },
  {
   "cell_type": "markdown",
   "id": "4194370c",
   "metadata": {},
   "source": [
    "Założenia kryptosystemu:\n",
    "- Klucz prywatny d musi być duży względem modułu n. Najlepiej, aby spełniał: d > n^{0.292}\n",
    "- W praktyce standardowo wybiera się publiczny wykładnik e = 65537 i losowe, duże liczby pierwsze.\n",
    "- Klucz prywatny nie powinien być mały ani szczególnie “łatwy” do odgadnięcia."
   ]
  },
  {
   "cell_type": "code",
   "execution_count": 21,
   "id": "395f25c7",
   "metadata": {},
   "outputs": [
    {
     "name": "stdout",
     "output_type": "stream",
     "text": [
      "Żaden atak Wienera nie zakończył się powodzeniem w 1000 próbach.\n"
     ]
    }
   ],
   "source": [
    "from fractions import Fraction\n",
    "from math import isqrt\n",
    "\n",
    "def continued_fraction(e, n):\n",
    "    cf = []\n",
    "    while n:\n",
    "        cf.append(e // n)\n",
    "        e, n = n, e % n\n",
    "    return cf\n",
    "\n",
    "def convergents(cf):\n",
    "    convs = []\n",
    "    for i in range(len(cf)):\n",
    "        frac = Fraction(0)\n",
    "        for a in reversed(cf[:i+1]):\n",
    "            frac = Fraction(1, frac + a) if frac else Fraction(a)\n",
    "        convs.append((frac.numerator, frac.denominator))\n",
    "    return convs\n",
    "\n",
    "def wiener_attack(e, n):\n",
    "    cf = continued_fraction(e, n)\n",
    "    convs = convergents(cf)\n",
    "    \n",
    "    for k, d in convs:\n",
    "        if k == 0 or d <= 1:\n",
    "            continue  # avoid trivial solutions\n",
    "        \n",
    "        # check for integer phi\n",
    "        if (e * d - 1) % k != 0:\n",
    "            continue\n",
    "        \n",
    "        phi_n = (e * d - 1) // k\n",
    "        s = n - phi_n + 1\n",
    "        discr = s * s - 4 * n\n",
    "        \n",
    "        if discr >= 0:\n",
    "            sqrt_discr = isqrt(discr)\n",
    "            if sqrt_discr * sqrt_discr == discr:\n",
    "                return d  # valid d found\n",
    "\n",
    "    return None\n",
    "\n",
    "# Reliable checking over 1000 attempts:\n",
    "def check_wiener_vulnerability(trials=1000, bit_length=64):\n",
    "    successes = 0\n",
    "    for _ in range(trials):\n",
    "        pub_key, priv_key = rsa_keygen_secure(bit_length)\n",
    "        n, e = pub_key\n",
    "        d = wiener_attack(e, n)\n",
    "        if d and d == priv_key[1]:\n",
    "            successes += 1\n",
    "            print(f\"Atak Wienera zakończył się powodzeniem! d = {d}\")\n",
    "            break  # can stop after first success\n",
    "    if successes == 0:\n",
    "        print(\"Żaden atak Wienera nie zakończył się powodzeniem w 1000 próbach.\")\n",
    "\n",
    "# Example run:\n",
    "check_wiener_vulnerability()"
   ]
  }
 ],
 "metadata": {
  "kernelspec": {
   "display_name": "Python 3",
   "language": "python",
   "name": "python3"
  },
  "language_info": {
   "codemirror_mode": {
    "name": "ipython",
    "version": 3
   },
   "file_extension": ".py",
   "mimetype": "text/x-python",
   "name": "python",
   "nbconvert_exporter": "python",
   "pygments_lexer": "ipython3",
   "version": "3.12.5"
  }
 },
 "nbformat": 4,
 "nbformat_minor": 5
}
