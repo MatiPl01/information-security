{
 "cells": [
  {
   "cell_type": "markdown",
   "id": "552b0fe2",
   "metadata": {},
   "source": [
    "# PKE - Wymiana klucza Diffiego-Hellmana\n",
    "\n",
    "## Problem logarytmu dyskretnego\n",
    "\n",
    "Niech $(G,\\circ)$ będzie grupą z działaniem $\\circ$ i elementem neutralnym $1_G$. Wtedy dla dowolnego elementu $a\\in G$ i $k\\in\\mathbb{Z}$ definiujemy *potęgę* $$a^k =\\left\\{\\begin{array}{cc}\n",
    "\\underbrace{a\\circ a\\circ \\ldots \\circ a}_{k}&\\text{ dla }k>0\\\\\n",
    "1_G&\\text{ dla }k=0\\\\\n",
    "\\underbrace{a^{-1}\\circ a^{-1}\\circ \\ldots \\circ a^{-1}}_{k}&\\text{ dla }k<0\n",
    "\\end{array}\\right.$$\n",
    "gdzie $a^{-1}$ jest elementem odwrotnym do $a$.\n",
    "\n",
    "Dla $a,b\\in G$, $b\\neq 1_G$, *logarytmem dyskretnym* $\\log_b a$ jest każda liczba $k\\in\\mathbb{Z}$ taka, że $b^k=a$.\n",
    "\n",
    "## Logarytm dyskretny w $\\mathbb{Z}_n$\n",
    "\n",
    "W przypadku pierścienia $\\mathbb{Z}_n$ logarytmem dyskretnym $\\log_b a$ jest każda liczba $k\\in\\mathbb{Z}$ taka, że $b^k=a\\mod n$, o ile w ogóle istnieje.\n",
    "\n",
    "Specyficzną sytuacją w teorii liczb jest gdy $n=p$ jest liczbą pierwszą a $q$ jest pierwiastkiem pierwotnym $\\mod p$. Wtedy:\n",
    "- potęgi $q^k\\mod p$ generują cały zbiór $[1,p-1]$, tzn. $q$ jest generatorem grupy multiplikatywneh rzędu $p-1$\n",
    "- logarytm dyskretny $\\log_q a$ istnieje dla każdego niezerowego elementu $a\\in \\mathbb{Z}_p$\n",
    "\n",
    "## Algorytm baby-step giant-step\n",
    "\n",
    "Jeden z najprostszych (poza metodą naiwną) algorytmów poszukiwania logarytmu dyskretnego w grupach cyklicznych.\n",
    "\n",
    "Niech $p$ będzie liczbą pierwszą oraz niech $q$ będzie pierwiastkiem pierwotnym modulo $p$. Dla niezerowego $a\\in\\mathbb{Z}_p$ szukamy liczby $k\\in\\mathbb{Z}$ takiej, że $q^k=a\\mod p$\n",
    "\n",
    "### Krok 1.\n",
    "- $m=\\lceil\\sqrt{p-1}\\rceil$\n",
    "- tworzymy pomocniczą tablicę potęg: dla wszystkich $i\\in [0,m)$ obliczamy parę $(i,q^i)$\n",
    "- obliczamy $r=(q^{-1})^m$\n",
    "### Krok 2.\n",
    "- $b=a$\n",
    "- dla wszystkich $j\\in [0,m)$:\n",
    "    - sprawdzamy, czy para $(i,b)$ jest elementem tablicy potęg dla pewnego $i$\n",
    "    - jeżeli tak, to $k=jm+i$ i kończymy algorytm\n",
    "    - jeżeli nie, to $b=br$ i kontynuujemy pętlę\n"
   ]
  },
  {
   "cell_type": "code",
   "execution_count": 1,
   "id": "74ae806f",
   "metadata": {},
   "outputs": [],
   "source": [
    "import math\n",
    "import random\n",
    "import time"
   ]
  },
  {
   "cell_type": "markdown",
   "id": "0a168713",
   "metadata": {},
   "source": [
    "## Zadanie 1.\n",
    "\n",
    "Zaimplementować algorytm baby-step giant-step. Przetestować dla podanych danych testujących.\n",
    "\n",
    "```Dane testujące:\n",
    "p = 7\n",
    "q = 3\n",
    "a = 4\n",
    "\n",
    "m = 3\n",
    "tablica_testowa = [1,3,2]\n",
    "r = 6\n",
    "k = 4 (j = 1, i = 1)\n",
    "```\n",
    "\n",
    "```\n",
    "p = 29\n",
    "q = 8\n",
    "a = 10\n",
    "\n",
    "m = 6\n",
    "tablica_testowa = [1,8,6,19,7,27]\n",
    "r = 9\n",
    "k = 17 (j = 2, i = 5)\n",
    "```\n",
    "\n",
    "```\n",
    "p = 113\n",
    "q = 76\n",
    "a = 84\n",
    "\n",
    "m = 11\n",
    "tablica_testowa = [1,76,13,84,56,75,50,71,85,19,88]\n",
    "r = 70\n",
    "k = 3 (j = 0, i = 3)\n",
    "```"
   ]
  },
  {
   "cell_type": "code",
   "execution_count": 2,
   "id": "9c934933",
   "metadata": {},
   "outputs": [
    {
     "name": "stdout",
     "output_type": "stream",
     "text": [
      "4\n",
      "17\n",
      "3\n"
     ]
    }
   ],
   "source": [
    "def baby_step_giant_step(p, q, a):\n",
    "    m = math.ceil(math.sqrt(p - 1))\n",
    "    table = {pow(q, i, p): i for i in range(m)}  # Baby steps\n",
    "\n",
    "    q_inv_m = pow(q, -m, p)\n",
    "    b = a\n",
    "\n",
    "    for j in range(m):\n",
    "        if b in table:\n",
    "            return j * m + table[b]\n",
    "        b = (b * q_inv_m) % p\n",
    "\n",
    "    return None  # No solution found\n",
    "\n",
    "# Example tests\n",
    "print(baby_step_giant_step(7, 3, 4))   # Expected: 4\n",
    "print(baby_step_giant_step(29, 8, 10)) # Expected: 17\n",
    "print(baby_step_giant_step(113, 76, 84)) # Expected: 3"
   ]
  },
  {
   "cell_type": "markdown",
   "id": "812b4993",
   "metadata": {},
   "source": [
    "## Algorytm wymiany klucza Diffiego-Hellmana\n",
    "\n",
    "Alice i Bob uzgadniają klucz publiczny będący liczbą pierwszą $p$ oraz $q$ - pierwiastkiem pierwotnym mod $p$.\n",
    "- sekret Alice: liczba całkowita $n\\in \\mathbb{Z}_p\\setminus\\{0\\}$\n",
    "- sekret Boba: liczba całkowita $m\\in \\mathbb{Z}_p\\setminus\\{0\\}$\n",
    "- Alice generuje $x=q^n\\mod p$ i wysyła do Boba\n",
    "- Bob generuje $y=q^m\\mod p$ i wysyła Alice\n",
    "- Alice oblicza klucz $k=y^n\\mod p$\n",
    "- Bob oblicza klucz $k=x^m\\mod p$\n"
   ]
  },
  {
   "cell_type": "markdown",
   "id": "3a81f5dd",
   "metadata": {},
   "source": [
    "## Zadanie 2.\n",
    "\n",
    "Zaimplementuj powyższy algorytm wymiany klucza."
   ]
  },
  {
   "cell_type": "code",
   "execution_count": 3,
   "id": "0310077f",
   "metadata": {},
   "outputs": [
    {
     "name": "stdout",
     "output_type": "stream",
     "text": [
      "Shared Key: 1\n",
      "Alice Secret: 4, Alice sends: 4\n",
      "Bob Secret: 22, Bob sends: 1\n"
     ]
    }
   ],
   "source": [
    "def diffie_hellman(p, q):\n",
    "    # Alice and Bob select private secrets\n",
    "    alice_secret = random.randint(1, p-1)\n",
    "    bob_secret = random.randint(1, p-1)\n",
    "\n",
    "    # Alice computes x and sends to Bob\n",
    "    x = pow(q, alice_secret, p)\n",
    "\n",
    "    # Bob computes y and sends to Alice\n",
    "    y = pow(q, bob_secret, p)\n",
    "\n",
    "    # Both compute the shared secret\n",
    "    alice_key = pow(y, alice_secret, p)\n",
    "    bob_key = pow(x, bob_secret, p)\n",
    "\n",
    "    assert alice_key == bob_key  # The shared secret must match\n",
    "    return alice_key, alice_secret, bob_secret, x, y\n",
    "\n",
    "# Test example\n",
    "p, q = 23, 5\n",
    "shared_key, alice_secret, bob_secret, x, y = diffie_hellman(p, q)\n",
    "\n",
    "print(f\"Shared Key: {shared_key}\")\n",
    "print(f\"Alice Secret: {alice_secret}, Alice sends: {x}\")\n",
    "print(f\"Bob Secret: {bob_secret}, Bob sends: {y}\")"
   ]
  },
  {
   "cell_type": "markdown",
   "id": "076f56f9",
   "metadata": {},
   "source": [
    "## Zadanie 3.\n",
    "Na swoją własną implementację przeprowadź atak algorytmem baby-step, giant-step. Jeżeli atak zakónczył się sukcesem, zmodyfikuj parametry $p$ i $q$ tak, żeby atak algorytmem z zadania 1 nie zakończył się sukcesem w rozsądnym czasie."
   ]
  },
  {
   "cell_type": "code",
   "execution_count": 6,
   "id": "c54ee986",
   "metadata": {},
   "outputs": [
    {
     "name": "stdout",
     "output_type": "stream",
     "text": [
      "Diffie-Hellman parameters:\n",
      "p = 1000000000000019\n",
      "q = 2\n",
      "x = 668454762283538\n",
      "Timeout exceeded during setup (baby steps).\n",
      "Attack failed or timeout reached: complexity too high.\n",
      "Attack attempt took 60.51 seconds.\n"
     ]
    }
   ],
   "source": [
    "def baby_step_giant_step_with_timeout(p, q, a, timeout_seconds=60):\n",
    "    m = math.isqrt(p) + 1\n",
    "    baby_steps = {}\n",
    "\n",
    "    start_time = time.time()\n",
    "\n",
    "    # Building baby_steps dictionary with a periodic timeout check\n",
    "    for i in range(m):\n",
    "        if time.time() - start_time > timeout_seconds:\n",
    "            print(\"Timeout exceeded during setup (baby steps).\")\n",
    "            return None\n",
    "        baby_steps[pow(q, i, p)] = i\n",
    "\n",
    "    q_inv_m = pow(q, -m, p)\n",
    "    gamma = a\n",
    "\n",
    "    for j in range(m):\n",
    "        if time.time() - start_time > timeout_seconds:\n",
    "            print(\"Timeout exceeded during search (giant steps).\")\n",
    "            return None\n",
    "        if gamma in baby_steps:\n",
    "            return j * m + baby_steps[gamma]\n",
    "        gamma = (gamma * q_inv_m) % p\n",
    "\n",
    "    return None\n",
    "\n",
    "# Recommended practical Diffie-Hellman parameters (secure but manageable)\n",
    "p = 1000000000000019   # prime ~10^15, securely large yet practical for testing\n",
    "q = 2                  # primitive root mod p\n",
    "\n",
    "def secure_diffie_hellman_final(p, q):\n",
    "    alice_secret = random.randint(1, p - 1)\n",
    "    bob_secret = random.randint(1, p - 1)\n",
    "\n",
    "    x = pow(q, alice_secret, p)\n",
    "    y = pow(q, bob_secret, p)\n",
    "\n",
    "    alice_key = pow(y, alice_secret, p)\n",
    "    bob_key = pow(x, bob_secret, p)\n",
    "\n",
    "    assert alice_key == bob_key\n",
    "\n",
    "    return alice_secret, bob_secret, x, y, alice_key\n",
    "\n",
    "alice_secret, bob_secret, x, y, alice_key = secure_diffie_hellman_final(p, q)\n",
    "\n",
    "print(f\"Diffie-Hellman parameters:\\np = {p}\\nq = {q}\\nx = {x}\")\n",
    "\n",
    "# Attempt the attack with timeout (set to 60 seconds)\n",
    "start_time = time.time()\n",
    "recovered_secret = baby_step_giant_step_with_timeout(p, q, x, timeout_seconds=60)\n",
    "end_time = time.time()\n",
    "\n",
    "if recovered_secret is None:\n",
    "    print(\"Attack failed or timeout reached: complexity too high.\")\n",
    "else:\n",
    "    print(f\"Attack succeeded unexpectedly: {recovered_secret}\")\n",
    "\n",
    "print(f\"Attack attempt took {end_time - start_time:.2f} seconds.\")"
   ]
  }
 ],
 "metadata": {
  "kernelspec": {
   "display_name": "Python 3",
   "language": "python",
   "name": "python3"
  },
  "language_info": {
   "codemirror_mode": {
    "name": "ipython",
    "version": 3
   },
   "file_extension": ".py",
   "mimetype": "text/x-python",
   "name": "python",
   "nbconvert_exporter": "python",
   "pygments_lexer": "ipython3",
   "version": "3.12.5"
  }
 },
 "nbformat": 4,
 "nbformat_minor": 5
}
