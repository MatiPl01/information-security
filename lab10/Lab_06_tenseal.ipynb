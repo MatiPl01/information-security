{
 "cells": [
  {
   "cell_type": "markdown",
   "id": "bb8f2818-8e5b-4fe0-af45-ea4d2dccb7a6",
   "metadata": {},
   "source": [
    "# TenSEAL - biblioteka python do szyfrowania homomorficznego"
   ]
  },
  {
   "cell_type": "markdown",
   "id": "a515d68e-ae0e-476a-9a75-b3833fd6bb9b",
   "metadata": {},
   "source": [
    "TenSEAL to biblioteka pythona oparta na Microsoft SEAL. Została zaprojektowana z myślą o łatwym integrowaniu homomorficznego szyfrowania z uczeniem maszynowym, głównie z użyciem PyTorch i obsługuje dwa schematy szyfrowania homomorficznego: BFV i CKKS.\n",
    "\n",
    "W celu instalacji `tenseal` należy odkomentować poniższą linijkę kodu. Użytkownicy MAC - https://github.com/OpenMined/TenSEAL/issues/451"
   ]
  },
  {
   "cell_type": "code",
   "execution_count": 1,
   "id": "001851f7-46c1-4f57-bd1c-3b0da0076f0e",
   "metadata": {},
   "outputs": [],
   "source": [
    "#pip install tenseal\n",
    "#!pip install tenseal "
   ]
  },
  {
   "cell_type": "markdown",
   "id": "26cf31d9",
   "metadata": {},
   "source": [
    "## Budowa kontekstu BFV\n",
    "\n",
    "`TenSEALContext` to obiekt, który przechowuje klucze i parametry szyfrowania. Po wybraniu schematu szyfrowania `TenSEALContext` tworzymy raz, przed wykonaniem wszelkich homomorficznych obliczeń. Składnia w przypadku BFV to:\n",
    "\n",
    "`tenseal.context(ts.SCHEME_TYPE_BFV, poly_modulus_degree, plain_modulus)`\n",
    "\n",
    "gdzie:\n",
    "- `poly_modulus_degree` to stopień wielomianu $X^n+1$ w pierścieniu $R_q$ (musi być potęgą dwójki, co najmniej $2^{12}$)\n",
    "- `plain_modulus` to podstawa modularna plaintekstu. Musi spełniać równanie $$\\text{plain\\_modulus} = 1 \\bmod (2 \\cdot \\text{poly\\_modulus\\_degree})$$\n"
   ]
  },
  {
   "cell_type": "code",
   "execution_count": 1,
   "id": "066dd04b",
   "metadata": {},
   "outputs": [],
   "source": [
    "import tenseal as ts\n",
    "\n",
    "context_bfv = ts.context(ts.SCHEME_TYPE.BFV,\n",
    "                         poly_modulus_degree=2**12,\n",
    "                         plain_modulus=1032193)\n",
    "\n",
    "context_bfv.generate_galois_keys() #generowanie kluczy"
   ]
  },
  {
   "cell_type": "markdown",
   "id": "b61487de",
   "metadata": {},
   "source": [
    "## Szyfrowanie/deszyfrowanie BFV\n",
    "\n",
    "Funkcja szyfrująca to `tenseal.bfv_vector()`. Przy szyfrowaniu wystarczy podać kontekst i wektor plaintextu. Deszyfrujemy atrybutem `decrypt()`."
   ]
  },
  {
   "cell_type": "code",
   "execution_count": 2,
   "id": "c15721ad",
   "metadata": {},
   "outputs": [
    {
     "name": "stdout",
     "output_type": "stream",
     "text": [
      "[1, 2, 3, 4, 5]\n"
     ]
    }
   ],
   "source": [
    "m = [1,2,3,4,5]\n",
    "\n",
    "c = ts.bfv_vector(context_bfv,m)\n",
    "mm = c.decrypt()\n",
    "\n",
    "print(mm)"
   ]
  },
  {
   "cell_type": "markdown",
   "id": "ae14bde4",
   "metadata": {},
   "source": [
    "## Ćwiczenie 1.\n",
    "\n",
    "Sprawdź głębokość operacji dodawania `+` i mnożenia `*` szyfrogramów otrzymanych z BFV."
   ]
  },
  {
   "cell_type": "code",
   "execution_count": 3,
   "id": "6459bf35",
   "metadata": {},
   "outputs": [
    {
     "name": "stdout",
     "output_type": "stream",
     "text": [
      "Additions fail at depth : > 1000\n",
      "Multiplications fail at depth : 2\n"
     ]
    }
   ],
   "source": [
    "import tenseal as ts\n",
    "\n",
    "cipher_base = ts.bfv_vector(context_bfv, m)\n",
    "n = len(m)\n",
    "\n",
    "def depth_limit(ct_base, op=\"add\", *, max_iters=1000):\n",
    "    ct = (\n",
    "        ts.bfv_vector(context_bfv, [0] * n)\n",
    "        if op == \"add\"\n",
    "        else ts.bfv_vector(context_bfv, [1] * n)\n",
    "    )\n",
    "    exact = [0] * n if op == \"add\" else [1] * n\n",
    "\n",
    "    for depth in range(1, max_iters + 1):\n",
    "        if op == \"add\":\n",
    "            ct += ct_base\n",
    "            exact = [e + x for e, x in zip(exact, m)]\n",
    "        else:\n",
    "            ct *= ct_base\n",
    "            exact = [e * x for e, x in zip(exact, m)]\n",
    "\n",
    "        if ct.decrypt() != exact:\n",
    "            return depth\n",
    "    return f\"> {max_iters}\"\n",
    "\n",
    "\n",
    "print(f\"Additions fail at depth : {depth_limit(cipher_base, 'add')}\")\n",
    "print(f\"Multiplications fail at depth : {depth_limit(cipher_base, 'mul')}\")"
   ]
  },
  {
   "cell_type": "markdown",
   "id": "00642077",
   "metadata": {},
   "source": [
    "## Budowa kontekstu CKKS\n",
    "\n",
    "Składnia kontekstu w przypadku CKKS to:\n",
    "\n",
    "`tenseal.context(ts.SCHEME_TYPE_CKKS, poly_modulus_degree, coeff_mod_bit_sizes)`\n",
    "\n",
    "gdzie:\n",
    "- `poly_modulus_degree` to stopień wielomianu $X^n+1$ w pierścieniu $R_q$ (musi być potęgą dwójki, co najmniej $2^{12}$). Decyduje o:\n",
    "    - maksymalnej liczbie współczynników plaintekstu\n",
    "    - rozmiarze szyfrogramu\n",
    "    - szybkości działania (im większy, tym wolniej)\n",
    "    - poziomie bezpieczeństwa (im większy, tym wyższe)\n",
    "- `coeff_mod_bit_sizes` rozmiary (w bitach) liczb pierwszych będących podstawą modularną $q$ na każdym etapie operacji homomorficznych. Maksymalna możliwa suma rozmiarów jest ograniczona zależnie od `poly_modulus_degree` - dłuższe wektory wymagają zwiększenia stopnia wielomianu. Decydują o:\n",
    "    - rozmiarze szyfrogramu\n",
    "    - długość listy decyduje o głębokości mnożenia (im dłuższa, tym większa)\n",
    "    - precyzji operacji zmiennoprzecinkowych (im większe, tym wyższe)\n",
    "    - szybkości działania (im większy, tym wolniej)\n",
    "    - poziomie bezpieczeństwa (im większe, tym niższe)\n",
    "    \n",
    "    Maksymalny dopuszczalny pojedynczy rozmiar to 60 bitów. Skrajne liczby pierwsze (szyfrująca i deszyfrująca) powinny być tych samych, możliwie jak największych rozmiarów, a pośrednie takich samych rozmiarów mniejszych lub równych skrajnym.\n",
    "    "
   ]
  },
  {
   "cell_type": "code",
   "execution_count": 4,
   "id": "e909d372-6913-45a5-951c-60696dbc2bf8",
   "metadata": {},
   "outputs": [],
   "source": [
    "context = ts.context(ts.SCHEME_TYPE.CKKS, poly_modulus_degree=2**11,\n",
    "                     coeff_mod_bit_sizes=[25,25])\n",
    "\n",
    "prec = 2**20 #precyzja\n",
    "context.generate_galois_keys()"
   ]
  },
  {
   "cell_type": "markdown",
   "id": "6eee0d31",
   "metadata": {},
   "source": [
    "## Szyfrowanie/deszyfrowanie CKKS\n",
    "\n",
    "Funkcja szyfrująca to `tenseal.ckks_tensor()`. Przy szyfrowaniu wystarczy podać kontekst i tensor plaintextu, ale dobrze jest też podać precyzję. Deszyfrujemy atrybutem `decrypt()`."
   ]
  },
  {
   "cell_type": "code",
   "execution_count": 5,
   "id": "cd5cd3c4-9562-4f1a-925f-a0b9942518ed",
   "metadata": {},
   "outputs": [
    {
     "data": {
      "text/plain": [
       "[1.230414416974692, 1.0105058717285822]"
      ]
     },
     "execution_count": 5,
     "metadata": {},
     "output_type": "execute_result"
    }
   ],
   "source": [
    "t1=ts.plain_tensor([1.23,1.01])  # tworzenie tensora plaintextu\n",
    "\n",
    "e1=ts.ckks_tensor(context,t1,prec)\n",
    "e1.decrypt().tolist()               # zrzut tensora do listy"
   ]
  },
  {
   "cell_type": "markdown",
   "id": "0ec3cd62",
   "metadata": {},
   "source": [
    "## Ćwiczenie 2.\n",
    "\n",
    "Dobierz parametry kontekstu CKKS tak, aby dokładność operacji mnożenia `*` czterech szyfrogramów pojedynczych liczb z zakresu $[0,4]$ wynosiła do czterech miejsc po przecinku. Wspomóż się dokumentacją ze strony https://github.com/OpenMined/TenSEAL/blob/main/tutorials/Tutorial%203%20-%20Benchmarks.ipynb"
   ]
  },
  {
   "cell_type": "code",
   "execution_count": 6,
   "id": "e4df2ae4",
   "metadata": {},
   "outputs": [],
   "source": [
    "import os\n",
    "if os.getcwd() != \"lab10\" and \"lab10\" in os.listdir():\n",
    "    os.chdir(\"lab10\")"
   ]
  },
  {
   "cell_type": "code",
   "execution_count": 7,
   "id": "4055cda2",
   "metadata": {},
   "outputs": [
    {
     "name": "stdout",
     "output_type": "stream",
     "text": [
      "✅  All 100 attempts passed.  Worst |error| = 8.51e-07\n"
     ]
    }
   ],
   "source": [
    "import random\n",
    "import math\n",
    "\n",
    "ctx = ts.context(\n",
    "    ts.SCHEME_TYPE.CKKS,\n",
    "    poly_modulus_degree=2**14,\n",
    "    coeff_mod_bit_sizes=[60, 50, 50, 50, 60],\n",
    ")\n",
    "ctx.global_scale = 2**50\n",
    "ctx.generate_galois_keys()\n",
    "\n",
    "\n",
    "def encrypted_product(vals, *, ctx=ctx):\n",
    "    ct = ts.ckks_vector(ctx, [vals[0]])\n",
    "    for v in vals[1:]:\n",
    "        ct *= ts.ckks_vector(ctx, [v])\n",
    "    return ct.decrypt()[0]\n",
    "\n",
    "\n",
    "def run_accuracy_test(n_tests=100):\n",
    "    worst_err = 0.0\n",
    "    for k in range(1, n_tests + 1):\n",
    "        nums = [random.uniform(0, 4) for _ in range(4)]\n",
    "        approx = encrypted_product(nums)\n",
    "        exact = math.prod(nums)\n",
    "        err = abs(approx - exact)\n",
    "        worst_err = max(worst_err, err)\n",
    "        assert err < 1e-4, f\"attempt {k}: |error|={err:.2e} ≥ 1e-4\"\n",
    "    print(f\"✅  All {n_tests} attempts passed.  Worst |error| = {worst_err:.2e}\")\n",
    "\n",
    "\n",
    "run_accuracy_test(n_tests=100)"
   ]
  },
  {
   "cell_type": "markdown",
   "id": "851bdcec",
   "metadata": {},
   "source": [
    "## Ćwiczenie 3.\n",
    "\n",
    "Napisz skrypt, który znajduje współczynniki krzywej regresji liniowej mając dostęp wyłącznie do zaszyfrowanych danych. Przetestuj skrypt na danych `data_nda.csv` i porównaj otrzymaną krzywą z faktyczną krzywą regresji. Przedstaw wizualizację obydwu krzywych na tle danych.\n",
    "\n",
    "Zanim przystąpisz do implementacji sprawdź na stronie https://github.com/OpenMined/TenSEAL/blob/main/tutorials/Tutorial%202%20-%20Working%20with%20Approximate%20Numbers.ipynb jakie działania na szyfrogramach obsługuje TenSEAL. "
   ]
  },
  {
   "cell_type": "code",
   "execution_count": 9,
   "id": "1d90bfba",
   "metadata": {},
   "outputs": [
    {
     "name": "stdout",
     "output_type": "stream",
     "text": [
      "encrypted [a, b]: [0.516488759788251, 19.7802230254872]\n",
      "plaintext [a, b]: [np.float64(0.5164887411276292), np.float64(19.780223118165555)]\n"
     ]
    },
    {
     "data": {
      "image/png": "[encoded data removed]",
      "text/plain": [
       "<Figure size 640x480 with 1 Axes>"
      ]
     },
     "metadata": {},
     "output_type": "display_data"
    }
   ],
   "source": [
    "import numpy as np\n",
    "import matplotlib.pyplot as plt\n",
    "import tenseal as ts\n",
    "\n",
    "x, y = np.loadtxt(\"data_nda.csv\")\n",
    "n = len(x)\n",
    "a_ref, b_ref = np.polyfit(x, y, 1)\n",
    "\n",
    "ctx = ts.context(\n",
    "    ts.SCHEME_TYPE.CKKS,\n",
    "    poly_modulus_degree=2**14,\n",
    "    coeff_mod_bit_sizes=[60, 50, 50, 50, 60],\n",
    ")\n",
    "ctx.global_scale = 2**50\n",
    "ctx.generate_galois_keys()\n",
    "\n",
    "ex = ts.ckks_vector(ctx, x.tolist())\n",
    "ey = ts.ckks_vector(ctx, y.tolist())\n",
    "exx, exy = ex * ex, ex * ey\n",
    "\n",
    "Sx  = ex.sum().decrypt()[0]\n",
    "Sy  = ey.sum().decrypt()[0]\n",
    "Sxx = exx.sum().decrypt()[0]\n",
    "Sxy = exy.sum().decrypt()[0]\n",
    "\n",
    "den = n * Sxx - Sx**2\n",
    "a_enc = (n * Sxy - Sx * Sy) / den\n",
    "b_enc = (Sy - a_enc * Sx) / n\n",
    "\n",
    "print(\"encrypted [a, b]:\", [a_enc, b_enc])\n",
    "print(\"plaintext [a, b]:\", [a_ref, b_ref])\n",
    "\n",
    "t = np.linspace(x.min(), x.max(), 200)\n",
    "plt.scatter(x, y, s=10, alpha=0.6, label=\"data\")\n",
    "plt.plot(t, a_ref * t + b_ref, \"--\", label=\"plaintext\")\n",
    "plt.plot(t, a_enc * t + b_enc, label=\"encrypted\")\n",
    "plt.legend()\n",
    "plt.title(\"Linear regression – plaintext vs CKKS-encrypted\")\n",
    "plt.show()"
   ]
  },
  {
   "cell_type": "markdown",
   "id": "6925e9d5",
   "metadata": {},
   "source": [
    "**Powtórka z regresji liniowej prostej**\n",
    "\n",
    "W przypadku regresji liniowej prostej (tzn. jedna zmienna niezależna, jedna zmienna zależna) współczynniki $a$ i $b$ prostej regresji dane są jawnymi wzorami. Niech $x$ będzie zmienną niezależną o wartościach $(x_1,...,x_n)$, a $y$ będzie zmienną zależną o wartościach $(y_1,...,y_n)$ odpowiadających kolejnym wartościom $x$. Wtedy współczynniki $a$ i $b$ prostej $y=ax+b$ minimalizującej sumę kwadratów błędów dane są wzorami:\n",
    "\n",
    "$$a=\\frac{n\\sum_{i=1}^n x_i y_i - \\sum_{i=1}^n x_i\\sum_{i=1}^n y_i}{n\\sum_{i=1}^n x_i^2- \\left(\\sum_{i=1}^n x_i\\right)^2}$$\n",
    "\n",
    "$$b=\\frac{\\sum_{i=1}^ny_i\\sum_{i=1}^n x_i^2 - \\sum_{i=1}^n x_i\\sum_{i=1}^n x_i y_i}{n\\sum_{i=1}^n x_i^2- \\left(\\sum_{i=1}^n x_i\\right)^2}$$"
   ]
  },
  {
   "cell_type": "code",
   "execution_count": 10,
   "id": "3c36f1db",
   "metadata": {},
   "outputs": [
    {
     "name": "stdout",
     "output_type": "stream",
     "text": [
      "a (slope) : 0.516488759788251\n",
      "b (intercept): 19.7802230254872\n"
     ]
    }
   ],
   "source": [
    "den = n * Sxx - Sx**2 \n",
    "\n",
    "a = (n * Sxy - Sx * Sy) / den\n",
    "b = (Sy * Sxx - Sx * Sxy) / den\n",
    "\n",
    "print(\"a (slope) :\", a)\n",
    "print(\"b (intercept):\", b)"
   ]
  }
 ],
 "metadata": {
  "kernelspec": {
   "display_name": "Python 3",
   "language": "python",
   "name": "python3"
  },
  "language_info": {
   "codemirror_mode": {
    "name": "ipython",
    "version": 3
   },
   "file_extension": ".py",
   "mimetype": "text/x-python",
   "name": "python",
   "nbconvert_exporter": "python",
   "pygments_lexer": "ipython3",
   "version": "3.10.13"
  }
 },
 "nbformat": 4,
 "nbformat_minor": 5
}
