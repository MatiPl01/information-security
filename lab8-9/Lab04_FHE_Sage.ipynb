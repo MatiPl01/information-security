{
 "cells": [
  {
   "cell_type": "markdown",
   "id": "6fe844ea",
   "metadata": {},
   "source": [
    "# Szyfrowanie w pełni homomorficzne - kryptosystem BGV\n",
    "\n",
    "## Pierścienie ilorazowe wielomianów\n",
    "\n",
    "Obiektem matematycznym powiązanym z ciałami Galois i używanym w kryptografi homomorficznej jest pierścień ilorazowy wielomianów $\\mathbb{Z}_q[X]/W(X)$, gdzie $W(X)$ jest danym, konkretnym wielomianem stopnia $n$ a $q$ konkretną liczbą (najczęściej pierwszą).\n",
    "\n",
    "$\\mathbb{Z}_q[X]$ oznacza tutaj pierścień wielomianów dowolnych stopni o współczynnikach będących liczbami z $\\mathbb{Z}_q$. Żeby otrzymać reprezentację wielomianu z $\\mathbb{Z}[X]$ (tzn. wielomianu o współczynnikach całkowitych) w $\\mathbb{Z}_q[X]$ należy obliczyć reprezentację jego współczynników $\\mod q$.\n",
    "\n",
    "Pierścień ilorazowy $\\mathbb{Z}_q[X]/W(X)$ to mówiąc prostym językiem pierścień reszt z dzielenia wielomianów z $\\mathbb{Z}_q[X]$ przez wielomian $W(X)$, czyli reprezentacją danego wielomianu staje się jego reszta z dzielenia przez $W(X)$."
   ]
  },
  {
   "cell_type": "markdown",
   "id": "c95ea766",
   "metadata": {},
   "source": [
    "### Pierścień $\\mathbb{Z}_q$ w Sage math:\n",
    "Konstruujemy pierścień `R=Integers(q)` lub `R=IntegerModRing(q)`, gdzie za `q` podajemy ustaloną liczbę naturalną. Jeżeli chcemy poznać postać liczby `x` w tym pierścieniu, to piszemy `R(x)`. Inną opcją jest funkcja `mod(x,q)`."
   ]
  },
  {
   "cell_type": "code",
   "execution_count": 1,
   "id": "582be02d",
   "metadata": {},
   "outputs": [
    {
     "name": "stdout",
     "output_type": "stream",
     "text": [
      "2\n",
      "<class 'sage.rings.finite_rings.integer_mod.IntegerMod_int'>\n"
     ]
    }
   ],
   "source": [
    "R=Integers(3) \n",
    "x=R(5)\n",
    "print(x)\n",
    "print(type(x))"
   ]
  },
  {
   "cell_type": "code",
   "execution_count": 2,
   "id": "d0d64a63",
   "metadata": {},
   "outputs": [
    {
     "name": "stdout",
     "output_type": "stream",
     "text": [
      "2 2\n",
      "1\n",
      "1\n",
      "0 0\n"
     ]
    }
   ],
   "source": [
    "print(4*x,x*4)\n",
    "print(x**2)\n",
    "print(x^2)\n",
    "print(x+4,4+x)"
   ]
  },
  {
   "cell_type": "code",
   "execution_count": 3,
   "id": "03446a07",
   "metadata": {},
   "outputs": [
    {
     "name": "stdout",
     "output_type": "stream",
     "text": [
      "2\n",
      "<class 'sage.rings.finite_rings.integer_mod.IntegerMod_int'>\n"
     ]
    }
   ],
   "source": [
    "RR=IntegerModRing(3) #to samo, co Integers\n",
    "x=RR(5)\n",
    "print(x)\n",
    "print(type(x))"
   ]
  },
  {
   "cell_type": "code",
   "execution_count": 4,
   "id": "70ca20a1",
   "metadata": {},
   "outputs": [
    {
     "name": "stdout",
     "output_type": "stream",
     "text": [
      "2\n",
      "<class 'sage.rings.finite_rings.integer_mod.IntegerMod_int'>\n"
     ]
    }
   ],
   "source": [
    "x=mod(5,3) #wynik jest zawsze obiektem klasy IntegerMod_int\n",
    "print(x)\n",
    "print(type(x))"
   ]
  },
  {
   "cell_type": "code",
   "execution_count": 5,
   "id": "c0f0505a",
   "metadata": {},
   "outputs": [
    {
     "data": {
      "text/plain": [
       "2"
      ]
     },
     "execution_count": 5,
     "metadata": {},
     "output_type": "execute_result"
    }
   ],
   "source": [
    "x**(-1) #można podnosić do ujemnych potęg (o ile podstawa modularna jest liczbą pierwszą)"
   ]
  },
  {
   "cell_type": "code",
   "execution_count": 6,
   "id": "6cd807de",
   "metadata": {},
   "outputs": [
    {
     "data": {
      "text/plain": [
       "1"
      ]
     },
     "execution_count": 6,
     "metadata": {},
     "output_type": "execute_result"
    }
   ],
   "source": [
    "x/2 #dzielenie to po prostu mnożenie przez odwrotność mianownika (o ile podstawa modularna jest l. pierwszą)"
   ]
  },
  {
   "cell_type": "markdown",
   "id": "cfa95c7d",
   "metadata": {},
   "source": [
    "### Pierścień ilorazowy $\\mathbb{Z}_q[X]/W(X)$ w Sage math\n",
    "\n",
    "Aby utworzyć pierścień ilorazowy $\\mathbb{Z}_q[X]/W(X)$ w Sage musimy najpierw utworzyć $\\mathbb{Z}_q[X]$, czyli pierścień wielomianów o współczynnikach z $\\mathbb{Z}_q$:\n",
    "\n",
    "`R=PolynomialRing(Integers(q),'X')`\n",
    "\n",
    "Jeżeli w dalszej części kodu mamy zamiar korzystać z wielomianów z tego pierścienia, to dobrze jest rozdzielić nazewnictwo zmiennych niezależnych\n",
    "\n",
    "`X=R.gen()`\n",
    "\n",
    "Teraz każdy wielomian zmiennej `X` będzie przez Sage traktowany jako element pierścienia `R`."
   ]
  },
  {
   "cell_type": "code",
   "execution_count": 7,
   "id": "a0894bea",
   "metadata": {},
   "outputs": [
    {
     "name": "stdout",
     "output_type": "stream",
     "text": [
      "X^6 + 2*X^4 + 2*X^2 + 1\n"
     ]
    },
    {
     "data": {
      "text/plain": [
       "<class 'sage.rings.polynomial.polynomial_zmod_flint.Polynomial_zmod_flint'>"
      ]
     },
     "execution_count": 7,
     "metadata": {},
     "output_type": "execute_result"
    }
   ],
   "source": [
    "R=PolynomialRing(Integers(5),'X')\n",
    "X=R.gen()\n",
    "\n",
    "P=X^6-13*X^4+12*X^2-10*X+6\n",
    "print(P)\n",
    "type(P)"
   ]
  },
  {
   "cell_type": "markdown",
   "id": "f57abfab",
   "metadata": {},
   "source": [
    "Pierścień ilorazowy tworzymy metodą `R.quotient(W,'x')`, gdzie `W` jest dowolnym wielomianem. Podobnie jak poprzednio dobrze jest od razu zdefiniować `x` jako zmienną niezależną wielomianów z nowego pierścienia."
   ]
  },
  {
   "cell_type": "code",
   "execution_count": 8,
   "id": "c40d0556",
   "metadata": {},
   "outputs": [
    {
     "name": "stdout",
     "output_type": "stream",
     "text": [
      "x + 4\n"
     ]
    },
    {
     "data": {
      "text/plain": [
       "<class 'sage.rings.polynomial.polynomial_quotient_ring.PolynomialQuotientRing_field_with_category.element_class'>"
      ]
     },
     "execution_count": 8,
     "metadata": {},
     "output_type": "execute_result"
    }
   ],
   "source": [
    "Rq=R.quotient(X^2+X+1,'x')\n",
    "x=Rq.gen()\n",
    "\n",
    "p=x^6-13*x^5+12*x^2-10*x+12\n",
    "print(p)\n",
    "type(p)"
   ]
  },
  {
   "cell_type": "markdown",
   "id": "e12a358a",
   "metadata": {},
   "source": [
    "## Zadanie 1.\n",
    "\n",
    "Zaimplementuj pierścień $R_q=\\mathbb{Z}_{17}[X]/(X^4+1)$. Sprawdź działanie na poniższych danych testowych.\n",
    "\n",
    "Dane testowe:\n",
    "\n",
    "$$w1=7x^6+14x^3$$\n",
    "$$w2=24x^4-5x^2-7x+13$$\n",
    "$$w3=23x^5-3x^4+x^3+35x^2+4$$\n",
    "\n",
    "Reprezentacja w $\\mathbb{Z}_{17}[X]/(X^4+1)$:\n",
    "\n",
    "$$w1=14x^3 + 10x^2$$\n",
    "$$w2=12x^2 + 10x + 6$$\n",
    "$$w3=x^3 + x^2 + 11x + 7$$\n",
    "\n",
    "Arytmetyka:\n",
    "\n",
    "$$w1+w2=14x^3 + 5x^2 + 10x + 6$$\n",
    "$$w1\\cdot w2=14x^3 + 9x^2 + 2x + 12$$\n",
    "$$6\\cdot w3=6x^3 + 6x^2 + 15x + 8$$\n",
    "$$w3\\cdot 6=6x^3 + 6x^2 + 15x + 8$$"
   ]
  },
  {
   "cell_type": "code",
   "execution_count": 9,
   "id": "9fcaa55d",
   "metadata": {},
   "outputs": [],
   "source": [
    "R = PolynomialRing(Integers(17),'X')\n",
    "X = R.gen()\n",
    "\n",
    "Rq = R.quotient(X^4+1,'x')\n",
    "x = Rq.gen()"
   ]
  },
  {
   "cell_type": "markdown",
   "id": "baad1a70-7f68-48a5-bf59-87719b1ef67c",
   "metadata": {},
   "source": [
    "Reprezentacja:"
   ]
  },
  {
   "cell_type": "code",
   "execution_count": 10,
   "id": "b4eaa1e6-0dc5-43a4-bcf0-90ea9c55573e",
   "metadata": {},
   "outputs": [
    {
     "name": "stdout",
     "output_type": "stream",
     "text": [
      "14*x^3 + 10*x^2\n",
      "12*x^2 + 10*x + 6\n",
      "x^3 + x^2 + 11*x + 7\n"
     ]
    }
   ],
   "source": [
    "w1 = 7*x^6 + 14*x^3\n",
    "w2 = 24*x^4 - 5*x^2 - 7*x + 13\n",
    "w3 = 23*x^5 - 3*x^4 + x^3 + 35*x^2 + 4\n",
    "\n",
    "print(w1)\n",
    "print(w2)\n",
    "print(w3)"
   ]
  },
  {
   "cell_type": "markdown",
   "id": "c8b7ec0f-6236-4e68-940c-f0f0cd669ece",
   "metadata": {},
   "source": [
    "Arytmetyka:"
   ]
  },
  {
   "cell_type": "code",
   "execution_count": 11,
   "id": "9f7ce7f0-0d1e-4f2a-a749-389cc36e2986",
   "metadata": {},
   "outputs": [
    {
     "name": "stdout",
     "output_type": "stream",
     "text": [
      "14*x^3 + 5*x^2 + 10*x + 6\n",
      "14*x^3 + 9*x^2 + 2*x + 12\n",
      "6*x^3 + 6*x^2 + 15*x + 8\n",
      "6*x^3 + 6*x^2 + 15*x + 8\n"
     ]
    }
   ],
   "source": [
    "print(w1 + w2)\n",
    "print(w1 * w2)\n",
    "print(6 * w3)\n",
    "print(w3 * 6)"
   ]
  },
  {
   "cell_type": "markdown",
   "id": "fac7f6f1",
   "metadata": {},
   "source": [
    "## Algorytm BGV (Brakerski, Gentry, Vaikuntanathan 2011)\n",
    "\n",
    "Parametry kryptosystemu:\n",
    "- $n$ - stopień wielomianu $X^n+1$\n",
    "- $q$ - podstawa arytmetyki modularnej\n",
    "- $t$ - podstawa arytmetyki modularnej plaintextu, $t<<q$\n",
    "- $\\chi$ - dyskretny rokład typu Gaussowskiego\n",
    "- $R_q=\\mathbb{Z}_{q}[X]/(X^n+1)$\n",
    "\n",
    "W uproszczonym modelu kryptosystemu przyjmijmy $n=4$, $q=17$, $t=2$.\n",
    "\n",
    "`SecretKeyGen(params) -> sk`\n",
    "\n",
    "- losujemy wektor $s\\in\\{-1,0,1\\}^n$ z *binomial distribution* (prawdopodobieństwo wylosowania 0 jest największe, a prawdopodobieństwa wylosowania -1 i 1 są sobie równe)\n",
    "- klucz prywatny $sk=s$\n",
    "    \n",
    "\n",
    "`PubKeyGen(sk, params) -> (pk0, pk1)`\n",
    "\n",
    "- losujemy losowy element $a\\in R_q$\n",
    "- losujemy niewielki (w sensie współczynników) błąd $e\\in R_q$ z rozkładu $\\chi$\n",
    "- $pk_0=as+te$\n",
    "- $pk_1=-a$\n",
    "- klucz publiczny $pk=(pk_0,pk_1)$\n",
    "\n",
    "`Encrypt(m, pk, params) -> (c0, c1)`\n",
    "\n",
    "- losujemy niewielkie (w sensie współczynników) błędy $e_0,e_1\\in R_q$ z rozkładu $\\chi$\n",
    "- losujemy wektor $u\\in\\{-1,0,1\\}^n$ z *binomial distribution*\n",
    "- $c_0=pk_0\\cdot u+te_0+m$\n",
    "- $c_1=pk_1\\cdot u+te_1$\n",
    "- szyfrogram $c=(c_0,c_1)$\n",
    "\n",
    "`Decrypt(c, sk, params)`\n",
    "\n",
    "- obliczamy $m=c_0+c_1s\\mod t$\n",
    "- zwracamy $m$ jako odszyfrowaną wiadomość\n",
    "\n",
    "**Podpowiedź:** w praktycznych implementacjach przy deszyfrowaniu nie zwracamy od razu $m=c_0+c_1s\\mod t$, tylko robimy \"poprawki bit po bicie\", tzn. jeżeli $j$-ty bit $m_j$ wyrażenia $m=c_0+c_1s$ jest większy lub równy $\\lfloor\\frac{q}{t}\\rfloor$ to zamiast $m_j\\mod t$ obliczamy \"poprawiony bit\" $m_j-q\\mod t$."
   ]
  },
  {
   "cell_type": "markdown",
   "id": "0d324a49",
   "metadata": {},
   "source": [
    "## Zadanie 2.\n",
    "\n",
    "Zaimplementuj powyższą uproszczoną wersję algorytmu BGV, najlepiej w dwóch krokach:\n",
    "- wstępna implementacja bez generatorów losowych, z ustalonymi wartościami $sk,e,a,e_0,e_1,u$. Sprawdź jej działanie na danych testowych.\n",
    "- pełna wersja kryptosystemu z $sk,e,a,e_0,e_1,u$ generowanymi z odpowiednich rozkładów. Sprawdź poprawność działania dla 100 losowych wiadomości $m$.\n",
    "- w celu poprawy poprawności deszyfrowania można w funkcji `Decrypt` sprawdzać współczynniki wielomianu $c_0+c_1s$ pojedynczo i jeżeli któryś przekracza $\\lfloor\\frac{q}{t}\\rfloor$ (co na pewno spowoduje błąd deszyfrowania) to przed operacją $\\mod t$ odjąć od niego $q$\n",
    "\n",
    "\n",
    "Dane testowe 1:\n",
    "- $sk= [ 0,  0, 16,  0]$\n",
    "- $e= [16,  0, 16,  0]$\n",
    "- $pk_0= [14, 10 ,15, 11]$\n",
    "- $pk_1= [ 6, 16, 10,  0]$\n",
    "- $m=[1, 0, 1, 0]$\n",
    "- $e_0= [0, 0, 1, 0]$\n",
    "- $e_1= [ 0, 16,  0, 16]$\n",
    "- $u= [ 1,  0, 16,  0]$\n",
    "- $c_0= [ 2,  5, 16, 16]$\n",
    "- $c_1= [ 1, 16,  1, 11]$\n",
    "\n",
    "Dane testowe 2:\n",
    "- $sk= [0, 1, 0, 0]$\n",
    "- $e= [1, 0, 0, 0]$\n",
    "- $pk_0= [15,  6, 15, 13]$\n",
    "- $pk_1= [15, 13,  4, 11]$\n",
    "- $m=[0, 1, 1, 1]$\n",
    "- $e_0= [1, 0, 0, 0]$\n",
    "- $e_1= [0, 0, 1, 0]$\n",
    "- $u= [ 0,  0,  0, 16]$\n",
    "- $c_0= [ 4, 12,  3,  5]$\n",
    "- $c_1= [ 2,  4, 15,  6]$\n"
   ]
  },
  {
   "cell_type": "code",
   "execution_count": 12,
   "id": "e0080296",
   "metadata": {},
   "outputs": [],
   "source": [
    "# Ring parameters\n",
    "n, q, t = 4, 257, 2\n",
    "R.<x> = PolynomialRing(Zmod(q))\n",
    "Rq = R.quotient(x^n + 1, 'xbar')\n",
    "threshold = q // t"
   ]
  },
  {
   "cell_type": "markdown",
   "id": "3b5823d8-146f-48d0-bb1a-648e4e0e3c53",
   "metadata": {},
   "source": [
    "#### Implementacja 1\n",
    "\n",
    "Wstępna wersja dla podanych danych testowych"
   ]
  },
  {
   "cell_type": "code",
   "execution_count": 13,
   "id": "d9efdcf9-3f3a-4721-8d25-f8a2a1272f28",
   "metadata": {},
   "outputs": [],
   "source": [
    "def SecretKeyGen_fixed(values):\n",
    "    \"\"\"Return a fixed secret key polynomial.\"\"\"\n",
    "    sk = Rq(values)\n",
    "    return sk\n",
    "\n",
    "def PubKeyGen_fixed(sk, a_vals, e_vals):\n",
    "    \"\"\"Return (pk0, pk1) for fixed a and e.\"\"\"\n",
    "    a = Rq(a_vals)\n",
    "    e = Rq(e_vals)\n",
    "    pk0 = a * sk + t * e\n",
    "    pk1 = -a\n",
    "    return pk0, pk1\n",
    "\n",
    "def Encrypt_fixed(m_vals, pk, u_vals, e0_vals, e1_vals):\n",
    "    \"\"\"Encrypt a fixed message vector using fixed u, e0, e1.\"\"\"\n",
    "    u  = Rq(u_vals)\n",
    "    e0 = Rq(e0_vals)\n",
    "    e1 = Rq(e1_vals)\n",
    "    m  = Rq(m_vals)\n",
    "    c0 = pk[0] * u + t * e0 + m\n",
    "    c1 = pk[1] * u + t * e1\n",
    "    return c0, c1\n",
    "\n",
    "def Decrypt(ct, sk):\n",
    "    c0, c1 = ct\n",
    "    raw = (c0 + c1 * sk).lift()\n",
    "    bits = []\n",
    "    for coeff in raw.list():\n",
    "        c = int(coeff) % q\n",
    "        if c >= threshold:\n",
    "            c -= q\n",
    "        bits.append(c % t)\n",
    "    if len(bits) < n:\n",
    "        bits.extend([0] * (n - len(bits)))\n",
    "    return bits[:n]"
   ]
  },
  {
   "cell_type": "code",
   "execution_count": 14,
   "id": "6b7c4d41-86a6-46d6-b4d3-130ea1ac48a5",
   "metadata": {},
   "outputs": [
    {
     "name": "stdout",
     "output_type": "stream",
     "text": [
      "Deterministic vectors\n",
      "Test 1: decrypted [1, 0, 1, 0]  expected [1, 0, 1, 0]  → PASS\n",
      "Test 2: decrypted [0, 1, 1, 1]  expected [0, 1, 1, 1]  → PASS\n",
      "\n",
      "Overall deterministic result: PASS\n"
     ]
    }
   ],
   "source": [
    "def run_case(label, *, sk, a, e, m, u, e0, e1):\n",
    "    sk_poly = SecretKeyGen_fixed(sk)\n",
    "    pk      = PubKeyGen_fixed(sk_poly, a, e)\n",
    "    ct      = Encrypt_fixed(m, pk, u, e0, e1)\n",
    "    dec     = Decrypt(ct, sk_poly)\n",
    "    status  = \"PASS\" if dec == m else \"FAIL\"\n",
    "    print(f\"{label}: decrypted {dec}  expected {m}  → {status}\")\n",
    "    return dec == m\n",
    "\n",
    "print(\"Deterministic vectors\")\n",
    "ok1 = run_case(\n",
    "    \"Test 1\",\n",
    "    sk =[0, 0, 16, 0],\n",
    "    a  =[6, 16, 10, 0],\n",
    "    e  =[16, 0, 16, 0],\n",
    "    m  =[1, 0, 1, 0],\n",
    "    u  =[1, 0, 16, 0],\n",
    "    e0 =[0, 0, 1, 0],\n",
    "    e1 =[0, 16, 0, 16]\n",
    ")\n",
    "\n",
    "ok2 = run_case(\n",
    "    \"Test 2\",\n",
    "    sk =[0, 1, 0, 0],\n",
    "    a  =[15, 13, 4, 11],\n",
    "    e  =[1, 0, 0, 0],\n",
    "    m  =[0, 1, 1, 1],\n",
    "    u  =[0, 0, 0, 16],\n",
    "    e0 =[1, 0, 0, 0],\n",
    "    e1 =[0, 0, 1, 0]\n",
    ")\n",
    "\n",
    "print(\"\\nOverall deterministic result:\",\n",
    "      \"PASS\" if ok1 and ok2 else \"FAIL\")"
   ]
  },
  {
   "cell_type": "markdown",
   "id": "254f4cc3-b5d1-4e07-968f-a4533df001f5",
   "metadata": {},
   "source": [
    "#### Implementacja 2"
   ]
  },
  {
   "cell_type": "code",
   "execution_count": 15,
   "id": "5455735b-f519-4f15-bc88-69a049ed1060",
   "metadata": {},
   "outputs": [],
   "source": [
    "from sage.stats.distributions.discrete_gaussian_integer import DiscreteGaussianDistributionIntegerSampler\n",
    "\n",
    "binomial_sampler = GeneralDiscreteDistribution([0.25, 0.50, 0.25])\n",
    "\n",
    "def sample_poly():\n",
    "    coeffs = [binomial_sampler.get_random_element() - 1 for _ in range(n)]\n",
    "    return Rq(coeffs)\n",
    "\n",
    "sigma = 0.3\n",
    "gaussian_sampler = DiscreteGaussianDistributionIntegerSampler(sigma)\n",
    "\n",
    "def noise_poly():\n",
    "    coeffs = [gaussian_sampler() for _ in range(n)]\n",
    "    return Rq(coeffs)\n",
    "\n",
    "def uniform_poly():\n",
    "    return Rq.random_element()\n",
    "\n",
    "def SecretKeyGen():\n",
    "    sk = sample_poly()\n",
    "    return sk\n",
    "\n",
    "def PubKeyGen(sk):\n",
    "    a = uniform_poly()\n",
    "    e = noise_poly()\n",
    "    pk0 = a * sk + t * e\n",
    "    pk1 = -a\n",
    "    return pk0, pk1\n",
    "\n",
    "def Encrypt(message_bits, pk):\n",
    "    m  = Rq(message_bits)\n",
    "    u  = sample_poly()\n",
    "    e0 = noise_poly()\n",
    "    e1 = noise_poly()\n",
    "    c0 = pk[0] * u + t * e0 + m\n",
    "    c1 = pk[1] * u + t * e1\n",
    "    return c0, c1"
   ]
  },
  {
   "cell_type": "code",
   "execution_count": 16,
   "id": "98005cae-6c46-4a28-bb47-9e2bfdbaba57",
   "metadata": {},
   "outputs": [
    {
     "name": "stdout",
     "output_type": "stream",
     "text": [
      "Random-variant success rate: 10000/10000  =  100.00%\n"
     ]
    }
   ],
   "source": [
    "trials = 10000\n",
    "success = 0\n",
    "\n",
    "for _ in range(trials):\n",
    "    sk = SecretKeyGen()\n",
    "    pk = PubKeyGen(sk)\n",
    "    msg = [randint(0, t - 1) for _ in range(n)]\n",
    "    ct  = Encrypt(msg, pk)\n",
    "    if Decrypt(ct, sk) == msg:\n",
    "        success += 1\n",
    "\n",
    "rate = 100.0 * success / trials\n",
    "print(f'Random-variant success rate: {success}/{trials}  =  {rate:.2f}%')"
   ]
  },
  {
   "cell_type": "markdown",
   "id": "604cd87d",
   "metadata": {},
   "source": [
    "## Operacje homomorficzne na szyfrogramach\n",
    "\n",
    "### Dodawanie `Add`\n",
    "\n",
    "Załóżmy, że mamy dwie wiadomości zaszyfrowane tym samym kluczem prywatnym, tzn. dwie pary $(c_0,c_1)$ oraz $(c'_0,c'_1)$. Naturalnym sposobem zdefiniowania sumy jest $$c_0^{\\ast}=c_0+c'_0$$ $$c_1^{\\ast}=c_1+c'_1$$czyli szyfrogram sumy to $$c^{\\ast}=(c_0^{\\ast},c_1^{\\ast}).$$\n",
    "\n",
    "To podejście me jeden problem: z każdą operacją sumowania wzrasta zaszumienie końcowego szyfrogramu, co może skutkować błędnym deszyfrowaniem, jednak nie aż tak bardzo jak to się dzieje w przypadku mnożenia.\n",
    "\n",
    "### Mnożenie `Mul`\n",
    "\n",
    "Jak przy dodawaniu mamy dwie wiadomości zaszyfrowane tym samym kluczem prywatnym, tzn. dwie pary $(c_0,c_1)$ oraz $(c'_0,c'_1)$. W przypadku naturalnej definicji mnożenia sprawy się komplikują: jeżeli popatrzymy na funkcję `Decrypt`, to wiadomości $m$ i $m'$ kryjące się za naszymi szyfrogramami są postaci $$m=c_0+c_1s$$ $$m'=c'_0+c'_1s.$$Jeżeli teraz pomnożymy te dwie wiadomości, to otrzymamy $$mm'=(c_0+c_1s)(c'_0+c'_1s)=c_0c'_0+(c_0c'_1+c'_0c_1)s+c_1c'_1s^2$$\n",
    "Otrzymujemy zatem **trzy** współrzędne końcowego szyfrogramu:\n",
    "\\begin{eqnarray*}\n",
    "c^{\\ast}_0=c_0c'_0\\\\\n",
    "c^{\\ast}_1=c_0c'_1+c'_0c_1\\\\\n",
    "c^{\\ast}_2=c_1c'_1\n",
    "\\end{eqnarray*}\n",
    "Jako wynik mnożenia zwracamy szyfrogram $$c^{\\ast}=(c_0^{\\ast},c_1^{\\ast},c_2^{\\ast}).$$\n",
    "W tym przypadku oprócz problemu z narastającym zaszumieniem mamy jeszcze problem z dodatkową współrzędną, której nie bierze pod uwagę nasza implementacja funkcji deszyfrującej.\n",
    "\n",
    "### Prosta relinearyzacja `KeySwitch`\n",
    "\n",
    "Niech $c^{\\ast}=(c_0^{\\ast},c_1^{\\ast},c_2^{\\ast})$ będzie wynikiem mnożenia dwóch wiadomości $m_1$ i $m_2$ zaszyfrowanych przy pomocy klucza publicznego $(pk_0, pk_1)$ i klucza prywatnego $s$. Żeby pozbyć się współrzędnej $c_2^{\\ast}$ (i przekształcić postać iloczynu $mm'$ z kwadratowej na liniową) stosujemy *zmianę klucza*.\n",
    "\n",
    "**Krok 1 - rozkład wielomianu.** Najpierw zapisujemy wszystkie współczynniki wielomianu $c_2^{\\ast}=w_0+w_1x+w_2x^2+w_3x^3$ w reprezentacji w systemie dwójkowym, tzn. $$w_i=\\sum_{j=0}^{\\lfloor \\log_2 q\\rfloor+1}2^jw^{(j)}_i,\\ \\ i=0,1,2,3$$\n",
    "\n",
    "Konstruujemy nowe wielomiany dla $j=0,...,\\lfloor \\log_2 q\\rfloor+1$ $$c_2^{\\ast (j)}=w^{(j)}_0+w^{(j)}_1x+w^{(j)}_2x^2+w^{(j)}_3x^3$$i za ich pomocą rozkładamy wielomian $c_2^{\\ast}$ $$c_2^{\\ast}=\\sum_{j=0}^{\\lfloor \\log_2 q\\rfloor+1}2^j c_2^{\\ast (j)}\\mod q$$\n",
    "\n",
    "**Krok 2 - generowanie wskazówek.** Dla $j=0,...,\\lfloor \\log_2 q\\rfloor+1$ z klucza prywatengo $s$ generujemy tzw. *wskazówki*: $$(ek_0^{(j)},ek_1^{(j)})=(a_js+te_j+2^js^2,-a_j),$$gdzie $a_j\\in R_q$ są generowane losowo z rozkładu jednostajnego a błedy $e_i\\in R_q$ - losowo z rozkładu typu Gaussowskiego (jak przy generowaniu kluczy).\n",
    "\n",
    "**Krok 3 - nowy szyfrogram.** Generujemy nowy szyfrogram $(\\widehat{c}_0,\\widehat{c}_1)$: $$\\widehat{c}_0=c_0^{\\ast}+\\sum_{j=0}^{\\lfloor \\log_2 q\\rfloor+1}ek_0^{(j)}c_2^{\\ast (j)}$$\n",
    "$$\\widehat{c}_1=c_1^{\\ast}+\\sum_{j=0}^{\\lfloor \\log_2 q\\rfloor+1}ek_1^{(j)}c_2^{\\ast (j)}$$\n",
    "\n",
    "Po zdeszyfrowaniu $(\\widehat{c}_0,\\widehat{c}_1)$ z kluczem $s$ powinniśmy otrzymać wiadomość będącą wynikiem mnożenia dwóch wiadomości $m_1$ i $m_2$."
   ]
  },
  {
   "cell_type": "markdown",
   "id": "394b83dd",
   "metadata": {},
   "source": [
    "## Zadanie 3.\n",
    "\n",
    "Zaimplementuj funkcje `Add`, `KeySwitch` oraz `Mul` realizujące powyższe algorytmy.\n",
    "- sprawdź działanie dodawania i mnożenia dla jednej operacji ($m_1+m_2, m_1*m_2$). Pamiętaj o wykorzystaniu funkcji `KeySwitch` przy mnożeniu. Dobierz parametry kryptosystemu tak, żeby po deszyfrowaniu otrzymać poprawne wyniki.\n",
    "- ile operacji dodawania możemy wykonać zanim narastające błędy spowodują błędne deszyfrowanie ($m_1+m_2+m_3+...$)?\n",
    "- a ile operacji mnożenia ($m_1*m_2*m_3*...$)?\n",
    "- sprawdź jak wygląda skuteczność deszyfrowania w przypadku mieszania operacji, np. $m_1*m_2+m_3$. Dla jakiej głębokości $N$ operacji mieszanych na wiadomościach deszyfrowanie jest poprawne?\n",
    "\n",
    "Przez głębokość $N$ operacji mieszanych rozumiemy kombinację postaci: iloczyn $N$ wiadomości plus iloczyn $N-1$ wiadomości plus iloczyn $N-2$ wiadomości plus ... plus iloczyn dwóch wiadomości plus jedna wiadomość.\n",
    "\n",
    "Otrzymane rezultaty (maksymalna głębokość operacji dodawania, operacji mnożenia i operacji mieszanych) opisz pełnym zdaniem w osobnej komórce pod testami."
   ]
  },
  {
   "cell_type": "code",
   "execution_count": 17,
   "id": "7ab48871-46c9-4b3b-88a6-0ea6cba636dd",
   "metadata": {},
   "outputs": [],
   "source": [
    "n, q, t = 4, 999_983, 2           # or any large prime\n",
    "R.<x> = PolynomialRing(Zmod(q))\n",
    "Rq = R.quotient(x^n + 1, 'xbar')\n",
    "threshold = q // t"
   ]
  },
  {
   "cell_type": "code",
   "execution_count": 18,
   "id": "a16a483e-f9d4-4311-967f-5e88a964b8e4",
   "metadata": {},
   "outputs": [],
   "source": [
    "from math import floor, log2\n",
    "\n",
    "def small_poly():\n",
    "    return Rq([binomial_sampler.get_random_element() - 1 for _ in range(n)])\n",
    "\n",
    "def Add(ct1, ct2):\n",
    "    c0a, c1a = ct1\n",
    "    c0b, c1b = ct2\n",
    "    return c0a + c0b, c1a + c1b\n",
    "\n",
    "def RelinearizationKey(sk):\n",
    "    s2 = sk * sk\n",
    "    L  = floor(log2(q)) + 1\n",
    "    rk = []\n",
    "    for j in range(L):\n",
    "        a = uniform_poly()\n",
    "        e = small_poly()\n",
    "        rk.append((a * sk + (2 ** j) * s2 + t * e, -a))\n",
    "    return rk\n",
    "\n",
    "def KeySwitch(ct3, rk):\n",
    "    c0, c1, c2 = ct3\n",
    "    c0_new, c1_new = c0, c1\n",
    "    for j, (ek0, ek1) in enumerate(rk):\n",
    "        bits = [(int(z) >> j) & 1 for z in c2.list()]\n",
    "        bpoly = Rq(bits)\n",
    "        c0_new += ek0 * bpoly\n",
    "        c1_new += ek1 * bpoly\n",
    "    return c0_new, c1_new\n",
    "\n",
    "def Mul(ct1, ct2):\n",
    "    c0a, c1a = ct1\n",
    "    c0b, c1b = ct2\n",
    "    return (\n",
    "        c0a * c0b,\n",
    "        c0a * c1b + c1a * c0b,\n",
    "        c1a * c1b\n",
    "    )"
   ]
  },
  {
   "cell_type": "code",
   "execution_count": 19,
   "id": "7dff0029-21f6-4ccb-b770-ee5540a4e8a5",
   "metadata": {},
   "outputs": [
    {
     "name": "stdout",
     "output_type": "stream",
     "text": [
      "Maksymalna liczba dodawań        : 500024\n",
      "Maksymalna liczba mnożeń         : 131\n",
      "Maksymalna głębokość mieszana N  : 110\n",
      "\n",
      "Dla wybranych parametrów poprawnie deszyfrujemy 500024 dodawań, 131 mnożeń oraz operacje mieszane do głębokości N = 110.\n"
     ]
    }
   ],
   "source": [
    "def test_depths(max_add_terms=10_000):\n",
    "    sk = SecretKeyGen()\n",
    "    pk = PubKeyGen(sk)\n",
    "    rk = RelinearizationKey(sk)\n",
    "\n",
    "    add_ct = Encrypt([0,0,0,0], pk)\n",
    "    add_val = 0\n",
    "    add_depth = 0\n",
    "    for _ in range(max_add_terms):\n",
    "        add_ct = Add(add_ct, Encrypt([1,0,0,0], pk))\n",
    "        add_val = (add_val + 1) % 2\n",
    "        if Decrypt(add_ct, sk)[0] == add_val:\n",
    "            add_depth += 1\n",
    "        else:\n",
    "            break\n",
    "\n",
    "    mul_ct = Encrypt([1,0,0,0], pk)\n",
    "    mul_depth = 0\n",
    "    while True:\n",
    "        mul_ct = KeySwitch(Mul(mul_ct, Encrypt([1,0,0,0], pk)), rk)\n",
    "        if Decrypt(mul_ct, sk)[0] == 1:\n",
    "            mul_depth += 1\n",
    "        else:\n",
    "            break\n",
    "\n",
    "    N = 1\n",
    "    prod_ct = Encrypt([1,0,0,0], pk)\n",
    "    sum_ct  = prod_ct\n",
    "    expected = 1\n",
    "    while True:\n",
    "        prod_ct  = KeySwitch(Mul(prod_ct, Encrypt([1,0,0,0], pk)), rk)\n",
    "        sum_ct   = Add(sum_ct, prod_ct)\n",
    "        N       += 1\n",
    "        expected = (expected + 1) % 2\n",
    "        if Decrypt(sum_ct, sk)[0] != expected:\n",
    "            N -= 1\n",
    "            break\n",
    "    return add_depth, mul_depth, N\n",
    "\n",
    "# sanity-check: one add, one mul\n",
    "sk_chk = SecretKeyGen()\n",
    "pk_chk = PubKeyGen(sk_chk)\n",
    "a_ct   = Encrypt([1,0,0,0], pk_chk)\n",
    "b_ct   = Encrypt([0,0,0,0], pk_chk)\n",
    "assert Decrypt(Add(a_ct, b_ct), sk_chk)[0] == 1\n",
    "rk_chk = RelinearizationKey(sk_chk)\n",
    "prod_rl = KeySwitch(Mul(a_ct, b_ct), rk_chk)\n",
    "assert Decrypt(prod_rl, sk_chk)[0] == 0\n",
    "\n",
    "# depth results\n",
    "add_d, mul_d, mix_d = test_depths(1_000_000)\n",
    "\n",
    "print(f\"Maksymalna liczba dodawań        : {add_d}\")\n",
    "print(f\"Maksymalna liczba mnożeń         : {mul_d}\")\n",
    "print(f\"Maksymalna głębokość mieszana N  : {mix_d}\")\n",
    "print(\n",
    "    f\"\\nDla wybranych parametrów poprawnie deszyfrujemy \"\n",
    "    f\"{add_d} dodawań, {mul_d} mnożeń oraz operacje mieszane do głębokości N = {mix_d}.\"\n",
    ")"
   ]
  }
 ],
 "metadata": {
  "kernelspec": {
   "display_name": "SageMath 10.6",
   "language": "sage",
   "name": "sagemath-10.6"
  },
  "language_info": {
   "codemirror_mode": {
    "name": "ipython",
    "version": 3
   },
   "file_extension": ".py",
   "mimetype": "text/x-python",
   "name": "python",
   "nbconvert_exporter": "python",
   "pygments_lexer": "ipython3",
   "version": "3.12.5"
  }
 },
 "nbformat": 4,
 "nbformat_minor": 5
}
