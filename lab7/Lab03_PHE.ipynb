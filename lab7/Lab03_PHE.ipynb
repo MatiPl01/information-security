{
 "cells": [
  {
   "cell_type": "markdown",
   "id": "9fdd1683",
   "metadata": {},
   "source": [
    "# Szyfrowanie częściowo homomorficzne - kryptosystemy PHE"
   ]
  },
  {
   "cell_type": "markdown",
   "id": "ee0784ce",
   "metadata": {},
   "source": [
    "## RSA\n",
    "\n",
    "Mamy klucz publiczny $(n,e)$ i klucz prywatny $(n,d)$. Szyfrujemy tym samym kluczem publicznym dwie wiadomości $m_1$ i $m_2$. Otrzymane szyfrogramy są postaci:\n",
    "$$c_1=m_1^e\\mod n\\qquad c_2=m_2^e\\mod n.$$\n",
    "\n",
    "Jeżeli teraz spróbujemy zdeszyfrować kluczem prywatnym iloczyn otrzymanych szyfrogramów, to otrzymamy\n",
    "$$(c_1c_2)^d\\mod n=c_1^dc_2^d\\mod n=(c_1^d\\mod n)(c_2^d\\mod n)=m_1m_2$$\n",
    "\n",
    "Otrzymaliśmy zatem, że\n",
    "$$D\\big(E(m_1)E(m_2)\\big)=m_1m_2$$\n",
    "czyli **RSA jest częściowo homomorficzny ze względu na mnożenie**."
   ]
  },
  {
   "cell_type": "markdown",
   "id": "3fe48a8e",
   "metadata": {},
   "source": [
    "## Ćwiczenie 1.\n",
    "\n",
    "Korzystając z implementacji RSA z ostatnich zajęć sprawdź czy są limity dla liczby homomorficznych operacji mnożenia (tzn. czy od jakiejś liczby operacji na szyfrogramach zaczynamy otrzymywać błędne deszyfrowanie)."
   ]
  },
  {
   "cell_type": "code",
   "execution_count": 1,
   "id": "e1d1f8f5",
   "metadata": {},
   "outputs": [],
   "source": [
    "import random\n",
    "from math import gcd\n",
    "\n",
    "# Simple primality check\n",
    "def is_prime(n):\n",
    "    if n < 2:\n",
    "        return False\n",
    "    for i in range(2, int(n ** 0.5) + 1):\n",
    "        if n % i == 0:\n",
    "            return False\n",
    "    return True\n",
    "\n",
    "# Generate random prime number\n",
    "def generate_prime(bits=16):\n",
    "    while True:\n",
    "        num = random.getrandbits(bits)\n",
    "        num |= (1 << bits - 1) | 1  # ensure high bit and odd\n",
    "        if is_prime(num):\n",
    "            return num\n",
    "\n",
    "# Modular inverse using Extended Euclidean algorithm\n",
    "def mod_inverse(a, m):\n",
    "    def egcd(a, b):\n",
    "        if a == 0:\n",
    "            return b, 0, 1\n",
    "        else:\n",
    "            g, y, x = egcd(b % a, a)\n",
    "            return g, x - (b // a) * y, y\n",
    "    g, x, _ = egcd(a, m)\n",
    "    if g != 1:\n",
    "        raise Exception('Inverse mod does not exist')\n",
    "    else:\n",
    "        return x % m"
   ]
  },
  {
   "cell_type": "code",
   "execution_count": 2,
   "id": "9989f30c",
   "metadata": {},
   "outputs": [
    {
     "name": "stdout",
     "output_type": "stream",
     "text": [
      "RSA: 100 operacji mnożenia zakończyło się poprawnie.\n"
     ]
    }
   ],
   "source": [
    "def rsa_keygen(bits=32):\n",
    "    p = generate_prime(bits // 2)\n",
    "    q = generate_prime(bits // 2)\n",
    "    n = p * q\n",
    "    phi = (p - 1)*(q - 1)\n",
    "    e = 65537\n",
    "    if gcd(e, phi) != 1:\n",
    "        e = 3\n",
    "    d = mod_inverse(e, phi)\n",
    "    return (n, e), (n, d)\n",
    "\n",
    "def rsa_encrypt(m, pubkey):\n",
    "    n, e = pubkey\n",
    "    return pow(m, e, n)\n",
    "\n",
    "def rsa_decrypt(c, privkey):\n",
    "    n, d = privkey\n",
    "    return pow(c, d, n)\n",
    "\n",
    "# Check RSA homomorphic multiplication limit\n",
    "pubkey, privkey = rsa_keygen()\n",
    "msg = 2\n",
    "c = rsa_encrypt(msg, pubkey)\n",
    "ciphertext_product = c\n",
    "\n",
    "for i in range(1, 100):\n",
    "    ciphertext_product = (ciphertext_product * c) % pubkey[0]\n",
    "    decrypted = rsa_decrypt(ciphertext_product, privkey)\n",
    "    if decrypted != pow(msg, i+1, pubkey[0]):\n",
    "        print(f\"RSA: błędne deszyfrowanie po {i} operacjach mnożenia.\")\n",
    "        break\n",
    "else:\n",
    "    print(\"RSA: 100 operacji mnożenia zakończyło się poprawnie.\")"
   ]
  },
  {
   "cell_type": "markdown",
   "id": "0ac7ebe4",
   "metadata": {},
   "source": [
    "## Kryptosystem Pailliera\n",
    "\n",
    "### Generowanie kluczy\n",
    "- wybieramy losowo liczby pierwsze $p$, $q$ o tej samej długości w zapisie dziesiętnym i obliczamy $n=pq$, $g=n+1$, $\\lambda=\\phi(n)=(p-1)(q-1)$ oraz  $\\mu =\\phi (n)^{-1}{\\mod {n}}$.\n",
    "- kluczem publicznym jest $(n,g)$ a kluczem prywatnym $(\\lambda,\\mu)$\n",
    "\n",
    "\n",
    "### Szyfrowanie\n",
    "Szyfrujemy liczbę $0\\leq m<n$. Wybieramy losowe $r<n$ względnie pierwsze z $n$ i obliczamy szyfrogram $$c=g^{m}\\cdot r^{n}{\\mod {n}}^{2}.$$\n",
    "\n",
    "\n",
    "### Deszyfrowanie\n",
    "Obliczamy $$m=\\mu L(c^{\\lambda }{\\bmod {n}}^{2}){\\bmod {n}},$$ gdzie  $L(x)$ to największa liczba naturalna $\\nu$ taka, że $x-1\\geq \\nu n$.\n",
    "\n",
    "Pomimo czynnika losowego przy szyfrowaniu, kryptosystem Pailliera ma własność $$D\\big(E(m_{1},r_{1})\\cdot E(m_{2},r_{2})\\big)=m_{1}+m_{2}$$\n",
    "a zatem jest **częściowo homomorficzny ze względu na dodawanie**."
   ]
  },
  {
   "cell_type": "markdown",
   "id": "85346647",
   "metadata": {},
   "source": [
    "## Ćwiczenie 2.\n",
    "\n",
    "Zaimplementuj kryptosystem Pailliera. Sprawdź, czy są limity homomorficznych operacji dodawania."
   ]
  },
  {
   "cell_type": "code",
   "execution_count": 3,
   "id": "9363aaff",
   "metadata": {},
   "outputs": [
    {
     "name": "stdout",
     "output_type": "stream",
     "text": [
      "Paillier: 100 operacji dodawania zakończyło się poprawnie.\n"
     ]
    }
   ],
   "source": [
    "def L(x, n):\n",
    "    return (x - 1) // n\n",
    "\n",
    "def paillier_keygen(bits=32):\n",
    "    p = generate_prime(bits // 2)\n",
    "    q = generate_prime(bits // 2)\n",
    "    n = p * q\n",
    "    g = n + 1\n",
    "    lambd = (p - 1)*(q - 1)\n",
    "    mu = mod_inverse(lambd, n)\n",
    "    return (n, g), (lambd, mu)\n",
    "\n",
    "def paillier_encrypt(m, pubkey):\n",
    "    n, g = pubkey\n",
    "    r = random.randrange(1, n)\n",
    "    while gcd(r, n) != 1:\n",
    "        r = random.randrange(1, n)\n",
    "    c = (pow(g, m, n*n) * pow(r, n, n*n)) % (n*n)\n",
    "    return c\n",
    "\n",
    "def paillier_decrypt(c, privkey, pubkey):\n",
    "    n, _ = pubkey\n",
    "    lambd, mu = privkey\n",
    "    u = pow(c, lambd, n*n)\n",
    "    return (L(u, n) * mu) % n\n",
    "\n",
    "# Check Paillier homomorphic addition limit\n",
    "pubkey_p, privkey_p = paillier_keygen()\n",
    "c_sum = paillier_encrypt(1, pubkey_p)\n",
    "\n",
    "for i in range(1, 100):\n",
    "    c_sum = (c_sum * paillier_encrypt(1, pubkey_p)) % (pubkey_p[0]**2)\n",
    "    decrypted_sum = paillier_decrypt(c_sum, privkey_p, pubkey_p)\n",
    "    if decrypted_sum != i + 1:\n",
    "        print(f\"Paillier: błędne deszyfrowanie po {i} operacjach dodawania.\")\n",
    "        break\n",
    "else:\n",
    "    print(\"Paillier: 100 operacji dodawania zakończyło się poprawnie.\")"
   ]
  },
  {
   "cell_type": "markdown",
   "id": "d9c1736f",
   "metadata": {},
   "source": [
    "Kryptosystem nazywamy *w pewnym sensie homomorficznym*, jeżeli operacjami na samych szyfrogramach $E(m_1),...,E(m_k)$ jesteśmy w stanie obliczyć pewne określone kombinacje dodawania i mnożenia oryginalnych wiadomości $m_1,...,m_k$."
   ]
  },
  {
   "cell_type": "markdown",
   "id": "37a0ff2c",
   "metadata": {},
   "source": [
    "## Ćwiczenie 3.\n",
    "\n",
    "Wykorzystując RSA i Pailliera zaimplementuj kryptosystem, który będzie w stanie obliczyć $(m_1m_2+m_3)\\cdot m_4$. Wszystkie działania muszą się odbywać na danych zaszyfrowanych (nie możemy ujawnić chmurze żadnej wiadomości $m_1$, $m_2$, $m_3$, $m_4$). Czy jesteśmy w stanie w ten sposób skonstruować kryptosystem w pewnym sensie homomorficzny?"
   ]
  },
  {
   "cell_type": "markdown",
   "id": "d61449e3",
   "metadata": {},
   "source": [
    "Tak, jest to kryptosystem częściowo homomorficzny. RSA pozwala wykonywać mnożenie na zaszyfrowanych danych, a Paillier umożliwia dodawanie. Jednak przejście między nimi wymaga częściowego odszyfrowania danych, więc nie jest to pełna homomorficzność – operacje nie są możliwe całkowicie bez odszyfrowywania wyników pośrednich."
   ]
  },
  {
   "cell_type": "code",
   "execution_count": 4,
   "id": "02c3d2e4",
   "metadata": {},
   "outputs": [
    {
     "name": "stdout",
     "output_type": "stream",
     "text": [
      "Oczekiwany wynik: 102\n",
      "Wynik z homomorficznej operacji: 102\n",
      "Operacja homomorficzna zakończyła się sukcesem!\n"
     ]
    }
   ],
   "source": [
    "def secure_computation(m1, m2, m3, m4):\n",
    "    # RSA (multiplication)\n",
    "    rsa_pub, rsa_priv = rsa_keygen()\n",
    "    c1 = rsa_encrypt(m1, rsa_pub)\n",
    "    c2 = rsa_encrypt(m2, rsa_pub)\n",
    "    c_mult = (c1 * c2) % rsa_pub[0]\n",
    "    decrypted_mult = rsa_decrypt(c_mult, rsa_priv)\n",
    "\n",
    "    # Paillier (addition)\n",
    "    paillier_pub, paillier_priv = paillier_keygen()\n",
    "    c_add_1 = paillier_encrypt(decrypted_mult, paillier_pub)\n",
    "    c_add_2 = paillier_encrypt(m3, paillier_pub)\n",
    "    c_added = (c_add_1 * c_add_2) % (paillier_pub[0]**2)\n",
    "    decrypted_added = paillier_decrypt(c_added, paillier_priv, paillier_pub)\n",
    "\n",
    "    # Final RSA multiplication\n",
    "    c_final = rsa_encrypt(decrypted_added, rsa_pub)\n",
    "    c4 = rsa_encrypt(m4, rsa_pub)\n",
    "    c_final_mult = (c_final * c4) % rsa_pub[0]\n",
    "    final_result = rsa_decrypt(c_final_mult, rsa_priv)\n",
    "\n",
    "    return final_result\n",
    "\n",
    "# Test the full homomorphic secure operation\n",
    "m1, m2, m3, m4 = 3, 4, 5, 6  # Example messages\n",
    "expected_result = (m1*m2 + m3)*m4\n",
    "computed_result = secure_computation(m1, m2, m3, m4)\n",
    "\n",
    "print(\"Oczekiwany wynik:\", expected_result)\n",
    "print(\"Wynik z homomorficznej operacji:\", computed_result)\n",
    "\n",
    "if computed_result == expected_result:\n",
    "    print(\"Operacja homomorficzna zakończyła się sukcesem!\")\n",
    "else:\n",
    "    print(\"Błąd w obliczeniach homomorficznych.\")"
   ]
  }
 ],
 "metadata": {
  "kernelspec": {
   "display_name": "Python 3",
   "language": "python",
   "name": "python3"
  },
  "language_info": {
   "codemirror_mode": {
    "name": "ipython",
    "version": 3
   },
   "file_extension": ".py",
   "mimetype": "text/x-python",
   "name": "python",
   "nbconvert_exporter": "python",
   "pygments_lexer": "ipython3",
   "version": "3.12.5"
  }
 },
 "nbformat": 4,
 "nbformat_minor": 5
}
